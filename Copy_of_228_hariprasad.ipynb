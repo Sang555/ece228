{
  "cells": [
    {
      "cell_type": "markdown",
      "metadata": {
        "id": "view-in-github",
        "colab_type": "text"
      },
      "source": [
        "<a href=\"https://colab.research.google.com/github/Sang555/ece228/blob/main/Copy_of_228_hariprasad.ipynb\" target=\"_parent\"><img src=\"https://colab.research.google.com/assets/colab-badge.svg\" alt=\"Open In Colab\"/></a>"
      ]
    },
    {
      "cell_type": "code",
      "execution_count": 1,
      "metadata": {
        "id": "MKZc1FCxrLk6"
      },
      "outputs": [],
      "source": [
        "import pandas as pd\n",
        "import numpy as np\n",
        "import matplotlib.pyplot as plt\n",
        "import math \n",
        "%matplotlib inline\n"
      ]
    },
    {
      "cell_type": "code",
      "execution_count": 2,
      "metadata": {
        "id": "7qkz7OsLrjGD",
        "colab": {
          "base_uri": "https://localhost:8080/",
          "height": 251
        },
        "outputId": "583d6d14-4a6a-4454-e99a-03be58a5cd28"
      },
      "outputs": [
        {
          "output_type": "execute_result",
          "data": {
            "text/plain": [
              "         ID                 Name      Date  Time Event Status Latitude  \\\n",
              "0  AL011851              UNNAMED  18510625     0           HU    28.0N   \n",
              "1  AL011851              UNNAMED  18510625   600           HU    28.0N   \n",
              "2  AL011851              UNNAMED  18510625  1200           HU    28.0N   \n",
              "\n",
              "  Longitude  Maximum Wind  Minimum Pressure  ...  Low Wind SW  Low Wind NW  \\\n",
              "0     94.8W            80              -999  ...         -999         -999   \n",
              "1     95.4W            80              -999  ...         -999         -999   \n",
              "2     96.0W            80              -999  ...         -999         -999   \n",
              "\n",
              "   Moderate Wind NE  Moderate Wind SE  Moderate Wind SW  Moderate Wind NW  \\\n",
              "0              -999              -999              -999              -999   \n",
              "1              -999              -999              -999              -999   \n",
              "2              -999              -999              -999              -999   \n",
              "\n",
              "   High Wind NE  High Wind SE  High Wind SW  High Wind NW  \n",
              "0          -999          -999          -999          -999  \n",
              "1          -999          -999          -999          -999  \n",
              "2          -999          -999          -999          -999  \n",
              "\n",
              "[3 rows x 22 columns]"
            ],
            "text/html": [
              "\n",
              "  <div id=\"df-93d514e4-456b-4b1b-b572-7080e5cfe7e3\">\n",
              "    <div class=\"colab-df-container\">\n",
              "      <div>\n",
              "<style scoped>\n",
              "    .dataframe tbody tr th:only-of-type {\n",
              "        vertical-align: middle;\n",
              "    }\n",
              "\n",
              "    .dataframe tbody tr th {\n",
              "        vertical-align: top;\n",
              "    }\n",
              "\n",
              "    .dataframe thead th {\n",
              "        text-align: right;\n",
              "    }\n",
              "</style>\n",
              "<table border=\"1\" class=\"dataframe\">\n",
              "  <thead>\n",
              "    <tr style=\"text-align: right;\">\n",
              "      <th></th>\n",
              "      <th>ID</th>\n",
              "      <th>Name</th>\n",
              "      <th>Date</th>\n",
              "      <th>Time</th>\n",
              "      <th>Event</th>\n",
              "      <th>Status</th>\n",
              "      <th>Latitude</th>\n",
              "      <th>Longitude</th>\n",
              "      <th>Maximum Wind</th>\n",
              "      <th>Minimum Pressure</th>\n",
              "      <th>...</th>\n",
              "      <th>Low Wind SW</th>\n",
              "      <th>Low Wind NW</th>\n",
              "      <th>Moderate Wind NE</th>\n",
              "      <th>Moderate Wind SE</th>\n",
              "      <th>Moderate Wind SW</th>\n",
              "      <th>Moderate Wind NW</th>\n",
              "      <th>High Wind NE</th>\n",
              "      <th>High Wind SE</th>\n",
              "      <th>High Wind SW</th>\n",
              "      <th>High Wind NW</th>\n",
              "    </tr>\n",
              "  </thead>\n",
              "  <tbody>\n",
              "    <tr>\n",
              "      <th>0</th>\n",
              "      <td>AL011851</td>\n",
              "      <td>UNNAMED</td>\n",
              "      <td>18510625</td>\n",
              "      <td>0</td>\n",
              "      <td></td>\n",
              "      <td>HU</td>\n",
              "      <td>28.0N</td>\n",
              "      <td>94.8W</td>\n",
              "      <td>80</td>\n",
              "      <td>-999</td>\n",
              "      <td>...</td>\n",
              "      <td>-999</td>\n",
              "      <td>-999</td>\n",
              "      <td>-999</td>\n",
              "      <td>-999</td>\n",
              "      <td>-999</td>\n",
              "      <td>-999</td>\n",
              "      <td>-999</td>\n",
              "      <td>-999</td>\n",
              "      <td>-999</td>\n",
              "      <td>-999</td>\n",
              "    </tr>\n",
              "    <tr>\n",
              "      <th>1</th>\n",
              "      <td>AL011851</td>\n",
              "      <td>UNNAMED</td>\n",
              "      <td>18510625</td>\n",
              "      <td>600</td>\n",
              "      <td></td>\n",
              "      <td>HU</td>\n",
              "      <td>28.0N</td>\n",
              "      <td>95.4W</td>\n",
              "      <td>80</td>\n",
              "      <td>-999</td>\n",
              "      <td>...</td>\n",
              "      <td>-999</td>\n",
              "      <td>-999</td>\n",
              "      <td>-999</td>\n",
              "      <td>-999</td>\n",
              "      <td>-999</td>\n",
              "      <td>-999</td>\n",
              "      <td>-999</td>\n",
              "      <td>-999</td>\n",
              "      <td>-999</td>\n",
              "      <td>-999</td>\n",
              "    </tr>\n",
              "    <tr>\n",
              "      <th>2</th>\n",
              "      <td>AL011851</td>\n",
              "      <td>UNNAMED</td>\n",
              "      <td>18510625</td>\n",
              "      <td>1200</td>\n",
              "      <td></td>\n",
              "      <td>HU</td>\n",
              "      <td>28.0N</td>\n",
              "      <td>96.0W</td>\n",
              "      <td>80</td>\n",
              "      <td>-999</td>\n",
              "      <td>...</td>\n",
              "      <td>-999</td>\n",
              "      <td>-999</td>\n",
              "      <td>-999</td>\n",
              "      <td>-999</td>\n",
              "      <td>-999</td>\n",
              "      <td>-999</td>\n",
              "      <td>-999</td>\n",
              "      <td>-999</td>\n",
              "      <td>-999</td>\n",
              "      <td>-999</td>\n",
              "    </tr>\n",
              "  </tbody>\n",
              "</table>\n",
              "<p>3 rows × 22 columns</p>\n",
              "</div>\n",
              "      <button class=\"colab-df-convert\" onclick=\"convertToInteractive('df-93d514e4-456b-4b1b-b572-7080e5cfe7e3')\"\n",
              "              title=\"Convert this dataframe to an interactive table.\"\n",
              "              style=\"display:none;\">\n",
              "        \n",
              "  <svg xmlns=\"http://www.w3.org/2000/svg\" height=\"24px\"viewBox=\"0 0 24 24\"\n",
              "       width=\"24px\">\n",
              "    <path d=\"M0 0h24v24H0V0z\" fill=\"none\"/>\n",
              "    <path d=\"M18.56 5.44l.94 2.06.94-2.06 2.06-.94-2.06-.94-.94-2.06-.94 2.06-2.06.94zm-11 1L8.5 8.5l.94-2.06 2.06-.94-2.06-.94L8.5 2.5l-.94 2.06-2.06.94zm10 10l.94 2.06.94-2.06 2.06-.94-2.06-.94-.94-2.06-.94 2.06-2.06.94z\"/><path d=\"M17.41 7.96l-1.37-1.37c-.4-.4-.92-.59-1.43-.59-.52 0-1.04.2-1.43.59L10.3 9.45l-7.72 7.72c-.78.78-.78 2.05 0 2.83L4 21.41c.39.39.9.59 1.41.59.51 0 1.02-.2 1.41-.59l7.78-7.78 2.81-2.81c.8-.78.8-2.07 0-2.86zM5.41 20L4 18.59l7.72-7.72 1.47 1.35L5.41 20z\"/>\n",
              "  </svg>\n",
              "      </button>\n",
              "      \n",
              "  <style>\n",
              "    .colab-df-container {\n",
              "      display:flex;\n",
              "      flex-wrap:wrap;\n",
              "      gap: 12px;\n",
              "    }\n",
              "\n",
              "    .colab-df-convert {\n",
              "      background-color: #E8F0FE;\n",
              "      border: none;\n",
              "      border-radius: 50%;\n",
              "      cursor: pointer;\n",
              "      display: none;\n",
              "      fill: #1967D2;\n",
              "      height: 32px;\n",
              "      padding: 0 0 0 0;\n",
              "      width: 32px;\n",
              "    }\n",
              "\n",
              "    .colab-df-convert:hover {\n",
              "      background-color: #E2EBFA;\n",
              "      box-shadow: 0px 1px 2px rgba(60, 64, 67, 0.3), 0px 1px 3px 1px rgba(60, 64, 67, 0.15);\n",
              "      fill: #174EA6;\n",
              "    }\n",
              "\n",
              "    [theme=dark] .colab-df-convert {\n",
              "      background-color: #3B4455;\n",
              "      fill: #D2E3FC;\n",
              "    }\n",
              "\n",
              "    [theme=dark] .colab-df-convert:hover {\n",
              "      background-color: #434B5C;\n",
              "      box-shadow: 0px 1px 3px 1px rgba(0, 0, 0, 0.15);\n",
              "      filter: drop-shadow(0px 1px 2px rgba(0, 0, 0, 0.3));\n",
              "      fill: #FFFFFF;\n",
              "    }\n",
              "  </style>\n",
              "\n",
              "      <script>\n",
              "        const buttonEl =\n",
              "          document.querySelector('#df-93d514e4-456b-4b1b-b572-7080e5cfe7e3 button.colab-df-convert');\n",
              "        buttonEl.style.display =\n",
              "          google.colab.kernel.accessAllowed ? 'block' : 'none';\n",
              "\n",
              "        async function convertToInteractive(key) {\n",
              "          const element = document.querySelector('#df-93d514e4-456b-4b1b-b572-7080e5cfe7e3');\n",
              "          const dataTable =\n",
              "            await google.colab.kernel.invokeFunction('convertToInteractive',\n",
              "                                                     [key], {});\n",
              "          if (!dataTable) return;\n",
              "\n",
              "          const docLinkHtml = 'Like what you see? Visit the ' +\n",
              "            '<a target=\"_blank\" href=https://colab.research.google.com/notebooks/data_table.ipynb>data table notebook</a>'\n",
              "            + ' to learn more about interactive tables.';\n",
              "          element.innerHTML = '';\n",
              "          dataTable['output_type'] = 'display_data';\n",
              "          await google.colab.output.renderOutput(dataTable, element);\n",
              "          const docLink = document.createElement('div');\n",
              "          docLink.innerHTML = docLinkHtml;\n",
              "          element.appendChild(docLink);\n",
              "        }\n",
              "      </script>\n",
              "    </div>\n",
              "  </div>\n",
              "  "
            ]
          },
          "metadata": {},
          "execution_count": 2
        }
      ],
      "source": [
        "data= pd.read_csv(\"https://raw.githubusercontent.com/Sang555/ece228/main/atlantic.csv\")\n",
        "data.head(3)"
      ]
    },
    {
      "cell_type": "code",
      "execution_count": 3,
      "metadata": {
        "id": "8E669y6jynUj",
        "colab": {
          "base_uri": "https://localhost:8080/",
          "height": 467
        },
        "outputId": "1d8073ce-e5c8-4c2e-cc76-48284e6e90c2"
      },
      "outputs": [
        {
          "output_type": "stream",
          "name": "stdout",
          "text": [
            "Collecting update\n",
            "  Downloading update-0.0.1-py2.py3-none-any.whl (2.9 kB)\n",
            "Collecting pandas==0.25.3\n",
            "  Downloading pandas-0.25.3-cp37-cp37m-manylinux1_x86_64.whl (10.4 MB)\n",
            "\u001b[K     |████████████████████████████████| 10.4 MB 11.5 MB/s \n",
            "\u001b[?25hRequirement already satisfied: numpy>=1.13.3 in /usr/local/lib/python3.7/dist-packages (from pandas==0.25.3) (1.21.6)\n",
            "Requirement already satisfied: python-dateutil>=2.6.1 in /usr/local/lib/python3.7/dist-packages (from pandas==0.25.3) (2.8.2)\n",
            "Requirement already satisfied: pytz>=2017.2 in /usr/local/lib/python3.7/dist-packages (from pandas==0.25.3) (2022.1)\n",
            "Requirement already satisfied: six>=1.5 in /usr/local/lib/python3.7/dist-packages (from python-dateutil>=2.6.1->pandas==0.25.3) (1.15.0)\n",
            "Collecting style==1.1.0\n",
            "  Downloading style-1.1.0-py2.py3-none-any.whl (6.4 kB)\n",
            "Installing collected packages: style, update, pandas\n",
            "  Attempting uninstall: pandas\n",
            "    Found existing installation: pandas 1.3.5\n",
            "    Uninstalling pandas-1.3.5:\n",
            "      Successfully uninstalled pandas-1.3.5\n",
            "\u001b[31mERROR: pip's dependency resolver does not currently take into account all the packages that are installed. This behaviour is the source of the following dependency conflicts.\n",
            "xarray 0.18.2 requires pandas>=1.0, but you have pandas 0.25.3 which is incompatible.\n",
            "google-colab 1.0.0 requires pandas>=1.1.0; python_version >= \"3.0\", but you have pandas 0.25.3 which is incompatible.\n",
            "fbprophet 0.7.1 requires pandas>=1.0.4, but you have pandas 0.25.3 which is incompatible.\u001b[0m\n",
            "Successfully installed pandas-0.25.3 style-1.1.0 update-0.0.1\n"
          ]
        },
        {
          "output_type": "display_data",
          "data": {
            "application/vnd.colab-display-data+json": {
              "pip_warning": {
                "packages": [
                  "pandas"
                ]
              }
            }
          },
          "metadata": {}
        }
      ],
      "source": [
        "!pip3 install update pandas==0.25.3"
      ]
    },
    {
      "cell_type": "code",
      "execution_count": 4,
      "metadata": {
        "id": "C-jH_e47u0IX",
        "colab": {
          "base_uri": "https://localhost:8080/"
        },
        "outputId": "440c8c26-7d6d-4be6-bfbc-7be5439751e5"
      },
      "outputs": [
        {
          "output_type": "execute_result",
          "data": {
            "text/plain": [
              "1814"
            ]
          },
          "metadata": {},
          "execution_count": 4
        }
      ],
      "source": [
        "len(data.ID.unique())"
      ]
    },
    {
      "cell_type": "code",
      "execution_count": 5,
      "metadata": {
        "id": "JM7tzUt-vYGz",
        "colab": {
          "base_uri": "https://localhost:8080/"
        },
        "outputId": "5484762f-25b2-4353-fc5d-92a04290ed0f"
      },
      "outputs": [
        {
          "output_type": "execute_result",
          "data": {
            "text/plain": [
              "ID\n",
              "AL011851    14\n",
              "AL011852    45\n",
              "AL011853     1\n",
              "AL011854    11\n",
              "AL011855     1\n",
              "            ..\n",
              "AL282005    33\n",
              "AL291969    17\n",
              "AL292005    42\n",
              "AL302005    43\n",
              "AL312005    36\n",
              "Name: Name, Length: 1814, dtype: int64"
            ]
          },
          "metadata": {},
          "execution_count": 5
        }
      ],
      "source": [
        "data.groupby(by=[\"ID\"]).Name.count()"
      ]
    },
    {
      "cell_type": "code",
      "execution_count": 6,
      "metadata": {
        "id": "Gg-DVZRHwPjc",
        "colab": {
          "base_uri": "https://localhost:8080/"
        },
        "outputId": "9f340611-c68e-4bde-f95f-2a004e0f8d78"
      },
      "outputs": [
        {
          "output_type": "execute_result",
          "data": {
            "text/plain": [
              "133"
            ]
          },
          "metadata": {},
          "execution_count": 6
        }
      ],
      "source": [
        "data.groupby(by=[\"ID\"]).Name.count().max()"
      ]
    },
    {
      "cell_type": "code",
      "execution_count": 7,
      "metadata": {
        "id": "1toltHd8uUP0",
        "colab": {
          "base_uri": "https://localhost:8080/",
          "height": 382
        },
        "outputId": "d01ca841-a2bf-4b15-f5eb-6504ea40564a"
      },
      "outputs": [
        {
          "output_type": "execute_result",
          "data": {
            "text/plain": [
              "               Date          Time  Maximum Wind  Minimum Pressure  \\\n",
              "count  4.910500e+04  49105.000000  49105.000000      49105.000000   \n",
              "mean   1.949802e+07    910.125975     52.005091       -251.406496   \n",
              "std    4.461850e+05    671.043363     27.681902        964.313907   \n",
              "min    1.851062e+07      0.000000    -99.000000       -999.000000   \n",
              "25%    1.911110e+07    600.000000     35.000000       -999.000000   \n",
              "50%    1.956093e+07   1200.000000     45.000000       -999.000000   \n",
              "75%    1.989081e+07   1800.000000     70.000000        990.000000   \n",
              "max    2.015111e+07   2330.000000    165.000000       1024.000000   \n",
              "\n",
              "        Low Wind NE   Low Wind SE   Low Wind SW   Low Wind NW  \\\n",
              "count  49105.000000  49105.000000  49105.000000  49105.000000   \n",
              "mean    -868.671031   -869.315772   -872.676428   -871.409245   \n",
              "std      353.299666    351.548910    342.153768    345.628984   \n",
              "min     -999.000000   -999.000000   -999.000000   -999.000000   \n",
              "25%     -999.000000   -999.000000   -999.000000   -999.000000   \n",
              "50%     -999.000000   -999.000000   -999.000000   -999.000000   \n",
              "75%     -999.000000   -999.000000   -999.000000   -999.000000   \n",
              "max      710.000000    600.000000    640.000000    530.000000   \n",
              "\n",
              "       Moderate Wind NE  Moderate Wind SE  Moderate Wind SW  Moderate Wind NW  \\\n",
              "count      49105.000000      49105.000000      49105.000000      49105.000000   \n",
              "mean        -875.570940       -875.765319       -876.682028       -876.323205   \n",
              "std          333.651396        333.133376        330.526085        331.535176   \n",
              "min         -999.000000       -999.000000       -999.000000       -999.000000   \n",
              "25%         -999.000000       -999.000000       -999.000000       -999.000000   \n",
              "50%         -999.000000       -999.000000       -999.000000       -999.000000   \n",
              "75%         -999.000000       -999.000000       -999.000000       -999.000000   \n",
              "max          360.000000        300.000000        330.000000        360.000000   \n",
              "\n",
              "       High Wind NE  High Wind SE  High Wind SW  High Wind NW  \n",
              "count  49105.000000  49105.000000  49105.000000  49105.000000  \n",
              "mean    -877.564321   -877.655045   -877.923552   -877.786295  \n",
              "std      328.027275    327.774794    327.021430    327.408253  \n",
              "min     -999.000000   -999.000000   -999.000000   -999.000000  \n",
              "25%     -999.000000   -999.000000   -999.000000   -999.000000  \n",
              "50%     -999.000000   -999.000000   -999.000000   -999.000000  \n",
              "75%     -999.000000   -999.000000   -999.000000   -999.000000  \n",
              "max      180.000000    250.000000    150.000000    180.000000  "
            ],
            "text/html": [
              "\n",
              "  <div id=\"df-f07575c4-95c8-446c-886e-4b663f357ce1\">\n",
              "    <div class=\"colab-df-container\">\n",
              "      <div>\n",
              "<style scoped>\n",
              "    .dataframe tbody tr th:only-of-type {\n",
              "        vertical-align: middle;\n",
              "    }\n",
              "\n",
              "    .dataframe tbody tr th {\n",
              "        vertical-align: top;\n",
              "    }\n",
              "\n",
              "    .dataframe thead th {\n",
              "        text-align: right;\n",
              "    }\n",
              "</style>\n",
              "<table border=\"1\" class=\"dataframe\">\n",
              "  <thead>\n",
              "    <tr style=\"text-align: right;\">\n",
              "      <th></th>\n",
              "      <th>Date</th>\n",
              "      <th>Time</th>\n",
              "      <th>Maximum Wind</th>\n",
              "      <th>Minimum Pressure</th>\n",
              "      <th>Low Wind NE</th>\n",
              "      <th>Low Wind SE</th>\n",
              "      <th>Low Wind SW</th>\n",
              "      <th>Low Wind NW</th>\n",
              "      <th>Moderate Wind NE</th>\n",
              "      <th>Moderate Wind SE</th>\n",
              "      <th>Moderate Wind SW</th>\n",
              "      <th>Moderate Wind NW</th>\n",
              "      <th>High Wind NE</th>\n",
              "      <th>High Wind SE</th>\n",
              "      <th>High Wind SW</th>\n",
              "      <th>High Wind NW</th>\n",
              "    </tr>\n",
              "  </thead>\n",
              "  <tbody>\n",
              "    <tr>\n",
              "      <th>count</th>\n",
              "      <td>4.910500e+04</td>\n",
              "      <td>49105.000000</td>\n",
              "      <td>49105.000000</td>\n",
              "      <td>49105.000000</td>\n",
              "      <td>49105.000000</td>\n",
              "      <td>49105.000000</td>\n",
              "      <td>49105.000000</td>\n",
              "      <td>49105.000000</td>\n",
              "      <td>49105.000000</td>\n",
              "      <td>49105.000000</td>\n",
              "      <td>49105.000000</td>\n",
              "      <td>49105.000000</td>\n",
              "      <td>49105.000000</td>\n",
              "      <td>49105.000000</td>\n",
              "      <td>49105.000000</td>\n",
              "      <td>49105.000000</td>\n",
              "    </tr>\n",
              "    <tr>\n",
              "      <th>mean</th>\n",
              "      <td>1.949802e+07</td>\n",
              "      <td>910.125975</td>\n",
              "      <td>52.005091</td>\n",
              "      <td>-251.406496</td>\n",
              "      <td>-868.671031</td>\n",
              "      <td>-869.315772</td>\n",
              "      <td>-872.676428</td>\n",
              "      <td>-871.409245</td>\n",
              "      <td>-875.570940</td>\n",
              "      <td>-875.765319</td>\n",
              "      <td>-876.682028</td>\n",
              "      <td>-876.323205</td>\n",
              "      <td>-877.564321</td>\n",
              "      <td>-877.655045</td>\n",
              "      <td>-877.923552</td>\n",
              "      <td>-877.786295</td>\n",
              "    </tr>\n",
              "    <tr>\n",
              "      <th>std</th>\n",
              "      <td>4.461850e+05</td>\n",
              "      <td>671.043363</td>\n",
              "      <td>27.681902</td>\n",
              "      <td>964.313907</td>\n",
              "      <td>353.299666</td>\n",
              "      <td>351.548910</td>\n",
              "      <td>342.153768</td>\n",
              "      <td>345.628984</td>\n",
              "      <td>333.651396</td>\n",
              "      <td>333.133376</td>\n",
              "      <td>330.526085</td>\n",
              "      <td>331.535176</td>\n",
              "      <td>328.027275</td>\n",
              "      <td>327.774794</td>\n",
              "      <td>327.021430</td>\n",
              "      <td>327.408253</td>\n",
              "    </tr>\n",
              "    <tr>\n",
              "      <th>min</th>\n",
              "      <td>1.851062e+07</td>\n",
              "      <td>0.000000</td>\n",
              "      <td>-99.000000</td>\n",
              "      <td>-999.000000</td>\n",
              "      <td>-999.000000</td>\n",
              "      <td>-999.000000</td>\n",
              "      <td>-999.000000</td>\n",
              "      <td>-999.000000</td>\n",
              "      <td>-999.000000</td>\n",
              "      <td>-999.000000</td>\n",
              "      <td>-999.000000</td>\n",
              "      <td>-999.000000</td>\n",
              "      <td>-999.000000</td>\n",
              "      <td>-999.000000</td>\n",
              "      <td>-999.000000</td>\n",
              "      <td>-999.000000</td>\n",
              "    </tr>\n",
              "    <tr>\n",
              "      <th>25%</th>\n",
              "      <td>1.911110e+07</td>\n",
              "      <td>600.000000</td>\n",
              "      <td>35.000000</td>\n",
              "      <td>-999.000000</td>\n",
              "      <td>-999.000000</td>\n",
              "      <td>-999.000000</td>\n",
              "      <td>-999.000000</td>\n",
              "      <td>-999.000000</td>\n",
              "      <td>-999.000000</td>\n",
              "      <td>-999.000000</td>\n",
              "      <td>-999.000000</td>\n",
              "      <td>-999.000000</td>\n",
              "      <td>-999.000000</td>\n",
              "      <td>-999.000000</td>\n",
              "      <td>-999.000000</td>\n",
              "      <td>-999.000000</td>\n",
              "    </tr>\n",
              "    <tr>\n",
              "      <th>50%</th>\n",
              "      <td>1.956093e+07</td>\n",
              "      <td>1200.000000</td>\n",
              "      <td>45.000000</td>\n",
              "      <td>-999.000000</td>\n",
              "      <td>-999.000000</td>\n",
              "      <td>-999.000000</td>\n",
              "      <td>-999.000000</td>\n",
              "      <td>-999.000000</td>\n",
              "      <td>-999.000000</td>\n",
              "      <td>-999.000000</td>\n",
              "      <td>-999.000000</td>\n",
              "      <td>-999.000000</td>\n",
              "      <td>-999.000000</td>\n",
              "      <td>-999.000000</td>\n",
              "      <td>-999.000000</td>\n",
              "      <td>-999.000000</td>\n",
              "    </tr>\n",
              "    <tr>\n",
              "      <th>75%</th>\n",
              "      <td>1.989081e+07</td>\n",
              "      <td>1800.000000</td>\n",
              "      <td>70.000000</td>\n",
              "      <td>990.000000</td>\n",
              "      <td>-999.000000</td>\n",
              "      <td>-999.000000</td>\n",
              "      <td>-999.000000</td>\n",
              "      <td>-999.000000</td>\n",
              "      <td>-999.000000</td>\n",
              "      <td>-999.000000</td>\n",
              "      <td>-999.000000</td>\n",
              "      <td>-999.000000</td>\n",
              "      <td>-999.000000</td>\n",
              "      <td>-999.000000</td>\n",
              "      <td>-999.000000</td>\n",
              "      <td>-999.000000</td>\n",
              "    </tr>\n",
              "    <tr>\n",
              "      <th>max</th>\n",
              "      <td>2.015111e+07</td>\n",
              "      <td>2330.000000</td>\n",
              "      <td>165.000000</td>\n",
              "      <td>1024.000000</td>\n",
              "      <td>710.000000</td>\n",
              "      <td>600.000000</td>\n",
              "      <td>640.000000</td>\n",
              "      <td>530.000000</td>\n",
              "      <td>360.000000</td>\n",
              "      <td>300.000000</td>\n",
              "      <td>330.000000</td>\n",
              "      <td>360.000000</td>\n",
              "      <td>180.000000</td>\n",
              "      <td>250.000000</td>\n",
              "      <td>150.000000</td>\n",
              "      <td>180.000000</td>\n",
              "    </tr>\n",
              "  </tbody>\n",
              "</table>\n",
              "</div>\n",
              "      <button class=\"colab-df-convert\" onclick=\"convertToInteractive('df-f07575c4-95c8-446c-886e-4b663f357ce1')\"\n",
              "              title=\"Convert this dataframe to an interactive table.\"\n",
              "              style=\"display:none;\">\n",
              "        \n",
              "  <svg xmlns=\"http://www.w3.org/2000/svg\" height=\"24px\"viewBox=\"0 0 24 24\"\n",
              "       width=\"24px\">\n",
              "    <path d=\"M0 0h24v24H0V0z\" fill=\"none\"/>\n",
              "    <path d=\"M18.56 5.44l.94 2.06.94-2.06 2.06-.94-2.06-.94-.94-2.06-.94 2.06-2.06.94zm-11 1L8.5 8.5l.94-2.06 2.06-.94-2.06-.94L8.5 2.5l-.94 2.06-2.06.94zm10 10l.94 2.06.94-2.06 2.06-.94-2.06-.94-.94-2.06-.94 2.06-2.06.94z\"/><path d=\"M17.41 7.96l-1.37-1.37c-.4-.4-.92-.59-1.43-.59-.52 0-1.04.2-1.43.59L10.3 9.45l-7.72 7.72c-.78.78-.78 2.05 0 2.83L4 21.41c.39.39.9.59 1.41.59.51 0 1.02-.2 1.41-.59l7.78-7.78 2.81-2.81c.8-.78.8-2.07 0-2.86zM5.41 20L4 18.59l7.72-7.72 1.47 1.35L5.41 20z\"/>\n",
              "  </svg>\n",
              "      </button>\n",
              "      \n",
              "  <style>\n",
              "    .colab-df-container {\n",
              "      display:flex;\n",
              "      flex-wrap:wrap;\n",
              "      gap: 12px;\n",
              "    }\n",
              "\n",
              "    .colab-df-convert {\n",
              "      background-color: #E8F0FE;\n",
              "      border: none;\n",
              "      border-radius: 50%;\n",
              "      cursor: pointer;\n",
              "      display: none;\n",
              "      fill: #1967D2;\n",
              "      height: 32px;\n",
              "      padding: 0 0 0 0;\n",
              "      width: 32px;\n",
              "    }\n",
              "\n",
              "    .colab-df-convert:hover {\n",
              "      background-color: #E2EBFA;\n",
              "      box-shadow: 0px 1px 2px rgba(60, 64, 67, 0.3), 0px 1px 3px 1px rgba(60, 64, 67, 0.15);\n",
              "      fill: #174EA6;\n",
              "    }\n",
              "\n",
              "    [theme=dark] .colab-df-convert {\n",
              "      background-color: #3B4455;\n",
              "      fill: #D2E3FC;\n",
              "    }\n",
              "\n",
              "    [theme=dark] .colab-df-convert:hover {\n",
              "      background-color: #434B5C;\n",
              "      box-shadow: 0px 1px 3px 1px rgba(0, 0, 0, 0.15);\n",
              "      filter: drop-shadow(0px 1px 2px rgba(0, 0, 0, 0.3));\n",
              "      fill: #FFFFFF;\n",
              "    }\n",
              "  </style>\n",
              "\n",
              "      <script>\n",
              "        const buttonEl =\n",
              "          document.querySelector('#df-f07575c4-95c8-446c-886e-4b663f357ce1 button.colab-df-convert');\n",
              "        buttonEl.style.display =\n",
              "          google.colab.kernel.accessAllowed ? 'block' : 'none';\n",
              "\n",
              "        async function convertToInteractive(key) {\n",
              "          const element = document.querySelector('#df-f07575c4-95c8-446c-886e-4b663f357ce1');\n",
              "          const dataTable =\n",
              "            await google.colab.kernel.invokeFunction('convertToInteractive',\n",
              "                                                     [key], {});\n",
              "          if (!dataTable) return;\n",
              "\n",
              "          const docLinkHtml = 'Like what you see? Visit the ' +\n",
              "            '<a target=\"_blank\" href=https://colab.research.google.com/notebooks/data_table.ipynb>data table notebook</a>'\n",
              "            + ' to learn more about interactive tables.';\n",
              "          element.innerHTML = '';\n",
              "          dataTable['output_type'] = 'display_data';\n",
              "          await google.colab.output.renderOutput(dataTable, element);\n",
              "          const docLink = document.createElement('div');\n",
              "          docLink.innerHTML = docLinkHtml;\n",
              "          element.appendChild(docLink);\n",
              "        }\n",
              "      </script>\n",
              "    </div>\n",
              "  </div>\n",
              "  "
            ]
          },
          "metadata": {},
          "execution_count": 7
        }
      ],
      "source": [
        "data.describe()"
      ]
    },
    {
      "cell_type": "code",
      "execution_count": 8,
      "metadata": {
        "id": "cKFonLlPtl5Y",
        "colab": {
          "base_uri": "https://localhost:8080/"
        },
        "outputId": "65224809-cc28-4884-b213-156c123c23dd"
      },
      "outputs": [
        {
          "output_type": "execute_result",
          "data": {
            "text/plain": [
              "ID                  0\n",
              "Name                0\n",
              "Date                0\n",
              "Time                0\n",
              "Event               0\n",
              "Status              0\n",
              "Latitude            0\n",
              "Longitude           0\n",
              "Maximum Wind        0\n",
              "Minimum Pressure    0\n",
              "Low Wind NE         0\n",
              "Low Wind SE         0\n",
              "Low Wind SW         0\n",
              "Low Wind NW         0\n",
              "Moderate Wind NE    0\n",
              "Moderate Wind SE    0\n",
              "Moderate Wind SW    0\n",
              "Moderate Wind NW    0\n",
              "High Wind NE        0\n",
              "High Wind SE        0\n",
              "High Wind SW        0\n",
              "High Wind NW        0\n",
              "dtype: int64"
            ]
          },
          "metadata": {},
          "execution_count": 8
        }
      ],
      "source": [
        "data.isnull().sum(axis = 0)"
      ]
    },
    {
      "cell_type": "code",
      "execution_count": 9,
      "metadata": {
        "id": "6L49NLQI7O-E",
        "colab": {
          "base_uri": "https://localhost:8080/",
          "height": 36
        },
        "outputId": "42d06f4b-1ae5-4884-d24c-2852d82d969d"
      },
      "outputs": [
        {
          "output_type": "execute_result",
          "data": {
            "text/plain": [
              "'99.9'"
            ],
            "application/vnd.google.colaboratory.intrinsic+json": {
              "type": "string"
            }
          },
          "metadata": {},
          "execution_count": 9
        }
      ],
      "source": [
        "data['Latitude1'] = data['Latitude'].str[:-1]\n",
        "data['Latitudesign'] = data['Latitude'].str[-1]\n",
        "data['Longitude1'] = data['Longitude'].str[:-1]\n",
        "max(data['Longitude1'])\n",
        "#data.head(5)\n"
      ]
    },
    {
      "cell_type": "code",
      "execution_count": 10,
      "metadata": {
        "id": "lO-4ZFX-_RZy",
        "colab": {
          "base_uri": "https://localhost:8080/"
        },
        "outputId": "61270e3f-221e-4a30-9355-4c7a7dfbc0b5"
      },
      "outputs": [
        {
          "output_type": "stream",
          "name": "stdout",
          "text": [
            "--2022-05-08 04:18:55--  https://raw.githubusercontent.com/Sang555/ece228/main/lambert.py\n",
            "Resolving raw.githubusercontent.com (raw.githubusercontent.com)... 185.199.108.133, 185.199.109.133, 185.199.110.133, ...\n",
            "Connecting to raw.githubusercontent.com (raw.githubusercontent.com)|185.199.108.133|:443... connected.\n",
            "HTTP request sent, awaiting response... 200 OK\n",
            "Length: 6860 (6.7K) [text/plain]\n",
            "Saving to: ‘lambert.py’\n",
            "\n",
            "\rlambert.py            0%[                    ]       0  --.-KB/s               \rlambert.py          100%[===================>]   6.70K  --.-KB/s    in 0s      \n",
            "\n",
            "2022-05-08 04:18:55 (101 MB/s) - ‘lambert.py’ saved [6860/6860]\n",
            "\n",
            "--2022-05-08 04:18:55--  https://github.com/Sang555/ece228/blob/main/projection_constants.json\n",
            "Resolving github.com (github.com)... 140.82.121.4\n",
            "Connecting to github.com (github.com)|140.82.121.4|:443... connected.\n",
            "HTTP request sent, awaiting response... 200 OK\n",
            "Length: unspecified [text/html]\n",
            "Saving to: ‘projection_constants.json’\n",
            "\n",
            "projection_constant     [ <=>                ] 130.19K  --.-KB/s    in 0.02s   \n",
            "\n",
            "2022-05-08 04:18:55 (5.28 MB/s) - ‘projection_constants.json’ saved [133313]\n",
            "\n"
          ]
        }
      ],
      "source": [
        "!wget https://raw.githubusercontent.com/Sang555/ece228/main/lambert.py\n",
        "!wget https://github.com/Sang555/ece228/blob/main/projection_constants.json"
      ]
    },
    {
      "cell_type": "code",
      "execution_count": 11,
      "metadata": {
        "id": "htiXy2ta_dti"
      },
      "outputs": [],
      "source": [
        "#@title\n",
        "import numpy as np\n",
        "import pandas as pd\n",
        "import json\n",
        "import httpimport\n",
        "#import https://raw.githubusercontent.com/Sang555/ece228/main/lambert.py?token=GHSAT0AAAAAABR2ACEM3YMSPDKAFI6FULWMYTPLGCA\n",
        "from lambert import Lambert\n",
        "#with open('projection_constants.json', 'r') as f: \n",
        " # const = json.load(f)\n",
        "# Test if our custom implementation of Lambert projection yields same results as Cartopy:\n",
        "\n",
        "\n",
        "# data['Latitude1'] = data['Latitude'].map(lambda x: float(str(x)[:-3]))\n",
        "# data['Longitude1'] = data['Longitude'].map(lambda x: float(str(x)[:-3]))\n",
        "data['Latitude1'] = pd.to_numeric(data['Latitude1'])\n",
        "data['Longitude1'] = pd.to_numeric(data['Longitude1'])\n",
        "lat_true = data['Latitude1']\n",
        "lon_true = data['Longitude1']\n",
        "\n",
        "lamb = Lambert(\n",
        "    standard_parallels=(33, 45),\n",
        "    central_latitude=0, central_longitude=0,\n",
        "    false_easting=400000, false_northing=400000,\n",
        "    semimajor_axis = 6377397.155, inverse_flattening = 299.1528153513275\n",
        ")\n",
        "\n",
        "x_test, y_test = lamb.geographic2cartesian(lat_true, lon_true)\n",
        "data['lcc_x'] = x_test\n",
        "data['lcc_y'] = y_test\n",
        "# print('Forward direction - largest absolute errors: x = {}, y = {}'.format(np.max(np.abs(x_test-x_true)), np.max(np.abs(y_test-y_true))))\n",
        "\n",
        "# lat_test, lon_test = lamb.cartesian2geographic(x_true, y_true)\n",
        "# print('Backward direction - largest absolute errors: lat = {}, lon = {}'.format(np.max(np.abs(lat_test-lat_true)), np.max(np.abs(lon_test-lon_true))))\n",
        "\n"
      ]
    },
    {
      "cell_type": "code",
      "execution_count": null,
      "metadata": {
        "id": "TleuF6FCFPnK"
      },
      "outputs": [],
      "source": [
        ""
      ]
    },
    {
      "cell_type": "code",
      "execution_count": 12,
      "metadata": {
        "id": "iNmBp83w3esS"
      },
      "outputs": [],
      "source": [
        "\n",
        "data['difference_lat'] = data.groupby('ID')['Latitude1'].diff()\n",
        "data['difference_lon'] = data.groupby('ID')['Longitude1'].diff()\n",
        "data['trans_dir'] = np.arctan(data['difference_lat']/data['difference_lon'])"
      ]
    },
    {
      "cell_type": "code",
      "execution_count": 13,
      "metadata": {
        "id": "w6xi-uZP6FTf",
        "colab": {
          "base_uri": "https://localhost:8080/",
          "height": 334
        },
        "outputId": "a204a62e-7503-44db-93b4-eee917bf087d"
      },
      "outputs": [
        {
          "output_type": "execute_result",
          "data": {
            "text/plain": [
              "         ID                 Name      Date  Time Event Status Latitude  \\\n",
              "0  AL011851              UNNAMED  18510625     0           HU    28.0N   \n",
              "1  AL011851              UNNAMED  18510625   600           HU    28.0N   \n",
              "2  AL011851              UNNAMED  18510625  1200           HU    28.0N   \n",
              "3  AL011851              UNNAMED  18510625  1800           HU    28.1N   \n",
              "4  AL011851              UNNAMED  18510625  2100     L     HU    28.2N   \n",
              "\n",
              "  Longitude  Maximum Wind  Minimum Pressure  ...  High Wind SW  High Wind NW  \\\n",
              "0     94.8W            80              -999  ...          -999          -999   \n",
              "1     95.4W            80              -999  ...          -999          -999   \n",
              "2     96.0W            80              -999  ...          -999          -999   \n",
              "3     96.5W            80              -999  ...          -999          -999   \n",
              "4     96.8W            80              -999  ...          -999          -999   \n",
              "\n",
              "   Latitude1  Latitudesign  Longitude1         lcc_x         lcc_y  \\\n",
              "0       28.0             N        94.8  8.218382e+06  8.295660e+06   \n",
              "1       28.0             N        95.4  8.248290e+06  8.347380e+06   \n",
              "2       28.0             N        96.0  8.277857e+06  8.399296e+06   \n",
              "3       28.1             N        96.5  8.292437e+06  8.448174e+06   \n",
              "4       28.2             N        96.8  8.297119e+06  8.479684e+06   \n",
              "\n",
              "   difference_lat  difference_lon  trans_dir  \n",
              "0             NaN             NaN        NaN  \n",
              "1             0.0             0.6   0.000000  \n",
              "2             0.0             0.6   0.000000  \n",
              "3             0.1             0.5   0.197396  \n",
              "4             0.1             0.3   0.321751  \n",
              "\n",
              "[5 rows x 30 columns]"
            ],
            "text/html": [
              "\n",
              "  <div id=\"df-d8f2bbcc-5936-4f3b-82c7-ff6aecc5d1d2\">\n",
              "    <div class=\"colab-df-container\">\n",
              "      <div>\n",
              "<style scoped>\n",
              "    .dataframe tbody tr th:only-of-type {\n",
              "        vertical-align: middle;\n",
              "    }\n",
              "\n",
              "    .dataframe tbody tr th {\n",
              "        vertical-align: top;\n",
              "    }\n",
              "\n",
              "    .dataframe thead th {\n",
              "        text-align: right;\n",
              "    }\n",
              "</style>\n",
              "<table border=\"1\" class=\"dataframe\">\n",
              "  <thead>\n",
              "    <tr style=\"text-align: right;\">\n",
              "      <th></th>\n",
              "      <th>ID</th>\n",
              "      <th>Name</th>\n",
              "      <th>Date</th>\n",
              "      <th>Time</th>\n",
              "      <th>Event</th>\n",
              "      <th>Status</th>\n",
              "      <th>Latitude</th>\n",
              "      <th>Longitude</th>\n",
              "      <th>Maximum Wind</th>\n",
              "      <th>Minimum Pressure</th>\n",
              "      <th>...</th>\n",
              "      <th>High Wind SW</th>\n",
              "      <th>High Wind NW</th>\n",
              "      <th>Latitude1</th>\n",
              "      <th>Latitudesign</th>\n",
              "      <th>Longitude1</th>\n",
              "      <th>lcc_x</th>\n",
              "      <th>lcc_y</th>\n",
              "      <th>difference_lat</th>\n",
              "      <th>difference_lon</th>\n",
              "      <th>trans_dir</th>\n",
              "    </tr>\n",
              "  </thead>\n",
              "  <tbody>\n",
              "    <tr>\n",
              "      <th>0</th>\n",
              "      <td>AL011851</td>\n",
              "      <td>UNNAMED</td>\n",
              "      <td>18510625</td>\n",
              "      <td>0</td>\n",
              "      <td></td>\n",
              "      <td>HU</td>\n",
              "      <td>28.0N</td>\n",
              "      <td>94.8W</td>\n",
              "      <td>80</td>\n",
              "      <td>-999</td>\n",
              "      <td>...</td>\n",
              "      <td>-999</td>\n",
              "      <td>-999</td>\n",
              "      <td>28.0</td>\n",
              "      <td>N</td>\n",
              "      <td>94.8</td>\n",
              "      <td>8.218382e+06</td>\n",
              "      <td>8.295660e+06</td>\n",
              "      <td>NaN</td>\n",
              "      <td>NaN</td>\n",
              "      <td>NaN</td>\n",
              "    </tr>\n",
              "    <tr>\n",
              "      <th>1</th>\n",
              "      <td>AL011851</td>\n",
              "      <td>UNNAMED</td>\n",
              "      <td>18510625</td>\n",
              "      <td>600</td>\n",
              "      <td></td>\n",
              "      <td>HU</td>\n",
              "      <td>28.0N</td>\n",
              "      <td>95.4W</td>\n",
              "      <td>80</td>\n",
              "      <td>-999</td>\n",
              "      <td>...</td>\n",
              "      <td>-999</td>\n",
              "      <td>-999</td>\n",
              "      <td>28.0</td>\n",
              "      <td>N</td>\n",
              "      <td>95.4</td>\n",
              "      <td>8.248290e+06</td>\n",
              "      <td>8.347380e+06</td>\n",
              "      <td>0.0</td>\n",
              "      <td>0.6</td>\n",
              "      <td>0.000000</td>\n",
              "    </tr>\n",
              "    <tr>\n",
              "      <th>2</th>\n",
              "      <td>AL011851</td>\n",
              "      <td>UNNAMED</td>\n",
              "      <td>18510625</td>\n",
              "      <td>1200</td>\n",
              "      <td></td>\n",
              "      <td>HU</td>\n",
              "      <td>28.0N</td>\n",
              "      <td>96.0W</td>\n",
              "      <td>80</td>\n",
              "      <td>-999</td>\n",
              "      <td>...</td>\n",
              "      <td>-999</td>\n",
              "      <td>-999</td>\n",
              "      <td>28.0</td>\n",
              "      <td>N</td>\n",
              "      <td>96.0</td>\n",
              "      <td>8.277857e+06</td>\n",
              "      <td>8.399296e+06</td>\n",
              "      <td>0.0</td>\n",
              "      <td>0.6</td>\n",
              "      <td>0.000000</td>\n",
              "    </tr>\n",
              "    <tr>\n",
              "      <th>3</th>\n",
              "      <td>AL011851</td>\n",
              "      <td>UNNAMED</td>\n",
              "      <td>18510625</td>\n",
              "      <td>1800</td>\n",
              "      <td></td>\n",
              "      <td>HU</td>\n",
              "      <td>28.1N</td>\n",
              "      <td>96.5W</td>\n",
              "      <td>80</td>\n",
              "      <td>-999</td>\n",
              "      <td>...</td>\n",
              "      <td>-999</td>\n",
              "      <td>-999</td>\n",
              "      <td>28.1</td>\n",
              "      <td>N</td>\n",
              "      <td>96.5</td>\n",
              "      <td>8.292437e+06</td>\n",
              "      <td>8.448174e+06</td>\n",
              "      <td>0.1</td>\n",
              "      <td>0.5</td>\n",
              "      <td>0.197396</td>\n",
              "    </tr>\n",
              "    <tr>\n",
              "      <th>4</th>\n",
              "      <td>AL011851</td>\n",
              "      <td>UNNAMED</td>\n",
              "      <td>18510625</td>\n",
              "      <td>2100</td>\n",
              "      <td>L</td>\n",
              "      <td>HU</td>\n",
              "      <td>28.2N</td>\n",
              "      <td>96.8W</td>\n",
              "      <td>80</td>\n",
              "      <td>-999</td>\n",
              "      <td>...</td>\n",
              "      <td>-999</td>\n",
              "      <td>-999</td>\n",
              "      <td>28.2</td>\n",
              "      <td>N</td>\n",
              "      <td>96.8</td>\n",
              "      <td>8.297119e+06</td>\n",
              "      <td>8.479684e+06</td>\n",
              "      <td>0.1</td>\n",
              "      <td>0.3</td>\n",
              "      <td>0.321751</td>\n",
              "    </tr>\n",
              "  </tbody>\n",
              "</table>\n",
              "<p>5 rows × 30 columns</p>\n",
              "</div>\n",
              "      <button class=\"colab-df-convert\" onclick=\"convertToInteractive('df-d8f2bbcc-5936-4f3b-82c7-ff6aecc5d1d2')\"\n",
              "              title=\"Convert this dataframe to an interactive table.\"\n",
              "              style=\"display:none;\">\n",
              "        \n",
              "  <svg xmlns=\"http://www.w3.org/2000/svg\" height=\"24px\"viewBox=\"0 0 24 24\"\n",
              "       width=\"24px\">\n",
              "    <path d=\"M0 0h24v24H0V0z\" fill=\"none\"/>\n",
              "    <path d=\"M18.56 5.44l.94 2.06.94-2.06 2.06-.94-2.06-.94-.94-2.06-.94 2.06-2.06.94zm-11 1L8.5 8.5l.94-2.06 2.06-.94-2.06-.94L8.5 2.5l-.94 2.06-2.06.94zm10 10l.94 2.06.94-2.06 2.06-.94-2.06-.94-.94-2.06-.94 2.06-2.06.94z\"/><path d=\"M17.41 7.96l-1.37-1.37c-.4-.4-.92-.59-1.43-.59-.52 0-1.04.2-1.43.59L10.3 9.45l-7.72 7.72c-.78.78-.78 2.05 0 2.83L4 21.41c.39.39.9.59 1.41.59.51 0 1.02-.2 1.41-.59l7.78-7.78 2.81-2.81c.8-.78.8-2.07 0-2.86zM5.41 20L4 18.59l7.72-7.72 1.47 1.35L5.41 20z\"/>\n",
              "  </svg>\n",
              "      </button>\n",
              "      \n",
              "  <style>\n",
              "    .colab-df-container {\n",
              "      display:flex;\n",
              "      flex-wrap:wrap;\n",
              "      gap: 12px;\n",
              "    }\n",
              "\n",
              "    .colab-df-convert {\n",
              "      background-color: #E8F0FE;\n",
              "      border: none;\n",
              "      border-radius: 50%;\n",
              "      cursor: pointer;\n",
              "      display: none;\n",
              "      fill: #1967D2;\n",
              "      height: 32px;\n",
              "      padding: 0 0 0 0;\n",
              "      width: 32px;\n",
              "    }\n",
              "\n",
              "    .colab-df-convert:hover {\n",
              "      background-color: #E2EBFA;\n",
              "      box-shadow: 0px 1px 2px rgba(60, 64, 67, 0.3), 0px 1px 3px 1px rgba(60, 64, 67, 0.15);\n",
              "      fill: #174EA6;\n",
              "    }\n",
              "\n",
              "    [theme=dark] .colab-df-convert {\n",
              "      background-color: #3B4455;\n",
              "      fill: #D2E3FC;\n",
              "    }\n",
              "\n",
              "    [theme=dark] .colab-df-convert:hover {\n",
              "      background-color: #434B5C;\n",
              "      box-shadow: 0px 1px 3px 1px rgba(0, 0, 0, 0.15);\n",
              "      filter: drop-shadow(0px 1px 2px rgba(0, 0, 0, 0.3));\n",
              "      fill: #FFFFFF;\n",
              "    }\n",
              "  </style>\n",
              "\n",
              "      <script>\n",
              "        const buttonEl =\n",
              "          document.querySelector('#df-d8f2bbcc-5936-4f3b-82c7-ff6aecc5d1d2 button.colab-df-convert');\n",
              "        buttonEl.style.display =\n",
              "          google.colab.kernel.accessAllowed ? 'block' : 'none';\n",
              "\n",
              "        async function convertToInteractive(key) {\n",
              "          const element = document.querySelector('#df-d8f2bbcc-5936-4f3b-82c7-ff6aecc5d1d2');\n",
              "          const dataTable =\n",
              "            await google.colab.kernel.invokeFunction('convertToInteractive',\n",
              "                                                     [key], {});\n",
              "          if (!dataTable) return;\n",
              "\n",
              "          const docLinkHtml = 'Like what you see? Visit the ' +\n",
              "            '<a target=\"_blank\" href=https://colab.research.google.com/notebooks/data_table.ipynb>data table notebook</a>'\n",
              "            + ' to learn more about interactive tables.';\n",
              "          element.innerHTML = '';\n",
              "          dataTable['output_type'] = 'display_data';\n",
              "          await google.colab.output.renderOutput(dataTable, element);\n",
              "          const docLink = document.createElement('div');\n",
              "          docLink.innerHTML = docLinkHtml;\n",
              "          element.appendChild(docLink);\n",
              "        }\n",
              "      </script>\n",
              "    </div>\n",
              "  </div>\n",
              "  "
            ]
          },
          "metadata": {},
          "execution_count": 13
        }
      ],
      "source": [
        "data.head(5)"
      ]
    },
    {
      "cell_type": "code",
      "execution_count": 14,
      "metadata": {
        "id": "ZrYhfF7z8mNq"
      },
      "outputs": [],
      "source": [
        "def haversine(coord1: object, coord2: object, lat2: object, lon2: object):\n",
        "    import math\n",
        "\n",
        "    # # Coordinates in decimal degrees (e.g. 2.89078, 12.79797)\n",
        "    # lon1, lat1 = coord1\n",
        "    # lon2, lat2 = coord2\n",
        "\n",
        "    R = 6371000  # radius of Earth in meters\n",
        "    phi_1 = math.radians(lat2 - coord1)\n",
        "    phi_2 = math.radians(lat2)\n",
        "\n",
        "    delta_phi = math.radians(coord1)\n",
        "    delta_lambda = math.radians(coord2)\n",
        "\n",
        "    a = math.sin(delta_phi / 2.0) ** 2 + math.cos(phi_1) * math.cos(phi_2) * math.sin(delta_lambda / 2.0) ** 2\n",
        "    \n",
        "    c = 2 * math.atan2(math.sqrt(a), math.sqrt(1 - a))\n",
        "\n",
        "    meters = R * c  # output distance in meters\n",
        "    km = meters / 1000.0  # output distance in kilometers\n",
        "\n",
        "    meters = round(meters, 3)/(6*3600)\n",
        "    return meters\n",
        "\n"
      ]
    },
    {
      "cell_type": "code",
      "execution_count": 15,
      "metadata": {
        "id": "qKpYTFKi9pRZ",
        "colab": {
          "base_uri": "https://localhost:8080/",
          "height": 334
        },
        "outputId": "7473d818-b4d6-4bb4-c77c-d4209d54bec6"
      },
      "outputs": [
        {
          "output_type": "execute_result",
          "data": {
            "text/plain": [
              "         ID                 Name      Date  Time Event Status Latitude  \\\n",
              "0  AL011851              UNNAMED  18510625     0           HU    28.0N   \n",
              "1  AL011851              UNNAMED  18510625   600           HU    28.0N   \n",
              "2  AL011851              UNNAMED  18510625  1200           HU    28.0N   \n",
              "3  AL011851              UNNAMED  18510625  1800           HU    28.1N   \n",
              "4  AL011851              UNNAMED  18510625  2100     L     HU    28.2N   \n",
              "\n",
              "  Longitude  Maximum Wind  Minimum Pressure  ...  High Wind NW  Latitude1  \\\n",
              "0     94.8W            80              -999  ...          -999       28.0   \n",
              "1     95.4W            80              -999  ...          -999       28.0   \n",
              "2     96.0W            80              -999  ...          -999       28.0   \n",
              "3     96.5W            80              -999  ...          -999       28.1   \n",
              "4     96.8W            80              -999  ...          -999       28.2   \n",
              "\n",
              "   Latitudesign  Longitude1         lcc_x         lcc_y  difference_lat  \\\n",
              "0             N        94.8  8.218382e+06  8.295660e+06             NaN   \n",
              "1             N        95.4  8.248290e+06  8.347380e+06             0.0   \n",
              "2             N        96.0  8.277857e+06  8.399296e+06             0.0   \n",
              "3             N        96.5  8.292437e+06  8.448174e+06             0.1   \n",
              "4             N        96.8  8.297119e+06  8.479684e+06             0.1   \n",
              "\n",
              "   difference_lon  trans_dir  trans_speed  \n",
              "0             NaN        NaN          NaN  \n",
              "1             0.6   0.000000     2.727200  \n",
              "2             0.6   0.000000     2.727200  \n",
              "3             0.5   0.197396     2.329212  \n",
              "4             0.3   0.321751     1.455758  \n",
              "\n",
              "[5 rows x 31 columns]"
            ],
            "text/html": [
              "\n",
              "  <div id=\"df-eb1b07cd-98fa-4e60-82ea-70e642ee7f68\">\n",
              "    <div class=\"colab-df-container\">\n",
              "      <div>\n",
              "<style scoped>\n",
              "    .dataframe tbody tr th:only-of-type {\n",
              "        vertical-align: middle;\n",
              "    }\n",
              "\n",
              "    .dataframe tbody tr th {\n",
              "        vertical-align: top;\n",
              "    }\n",
              "\n",
              "    .dataframe thead th {\n",
              "        text-align: right;\n",
              "    }\n",
              "</style>\n",
              "<table border=\"1\" class=\"dataframe\">\n",
              "  <thead>\n",
              "    <tr style=\"text-align: right;\">\n",
              "      <th></th>\n",
              "      <th>ID</th>\n",
              "      <th>Name</th>\n",
              "      <th>Date</th>\n",
              "      <th>Time</th>\n",
              "      <th>Event</th>\n",
              "      <th>Status</th>\n",
              "      <th>Latitude</th>\n",
              "      <th>Longitude</th>\n",
              "      <th>Maximum Wind</th>\n",
              "      <th>Minimum Pressure</th>\n",
              "      <th>...</th>\n",
              "      <th>High Wind NW</th>\n",
              "      <th>Latitude1</th>\n",
              "      <th>Latitudesign</th>\n",
              "      <th>Longitude1</th>\n",
              "      <th>lcc_x</th>\n",
              "      <th>lcc_y</th>\n",
              "      <th>difference_lat</th>\n",
              "      <th>difference_lon</th>\n",
              "      <th>trans_dir</th>\n",
              "      <th>trans_speed</th>\n",
              "    </tr>\n",
              "  </thead>\n",
              "  <tbody>\n",
              "    <tr>\n",
              "      <th>0</th>\n",
              "      <td>AL011851</td>\n",
              "      <td>UNNAMED</td>\n",
              "      <td>18510625</td>\n",
              "      <td>0</td>\n",
              "      <td></td>\n",
              "      <td>HU</td>\n",
              "      <td>28.0N</td>\n",
              "      <td>94.8W</td>\n",
              "      <td>80</td>\n",
              "      <td>-999</td>\n",
              "      <td>...</td>\n",
              "      <td>-999</td>\n",
              "      <td>28.0</td>\n",
              "      <td>N</td>\n",
              "      <td>94.8</td>\n",
              "      <td>8.218382e+06</td>\n",
              "      <td>8.295660e+06</td>\n",
              "      <td>NaN</td>\n",
              "      <td>NaN</td>\n",
              "      <td>NaN</td>\n",
              "      <td>NaN</td>\n",
              "    </tr>\n",
              "    <tr>\n",
              "      <th>1</th>\n",
              "      <td>AL011851</td>\n",
              "      <td>UNNAMED</td>\n",
              "      <td>18510625</td>\n",
              "      <td>600</td>\n",
              "      <td></td>\n",
              "      <td>HU</td>\n",
              "      <td>28.0N</td>\n",
              "      <td>95.4W</td>\n",
              "      <td>80</td>\n",
              "      <td>-999</td>\n",
              "      <td>...</td>\n",
              "      <td>-999</td>\n",
              "      <td>28.0</td>\n",
              "      <td>N</td>\n",
              "      <td>95.4</td>\n",
              "      <td>8.248290e+06</td>\n",
              "      <td>8.347380e+06</td>\n",
              "      <td>0.0</td>\n",
              "      <td>0.6</td>\n",
              "      <td>0.000000</td>\n",
              "      <td>2.727200</td>\n",
              "    </tr>\n",
              "    <tr>\n",
              "      <th>2</th>\n",
              "      <td>AL011851</td>\n",
              "      <td>UNNAMED</td>\n",
              "      <td>18510625</td>\n",
              "      <td>1200</td>\n",
              "      <td></td>\n",
              "      <td>HU</td>\n",
              "      <td>28.0N</td>\n",
              "      <td>96.0W</td>\n",
              "      <td>80</td>\n",
              "      <td>-999</td>\n",
              "      <td>...</td>\n",
              "      <td>-999</td>\n",
              "      <td>28.0</td>\n",
              "      <td>N</td>\n",
              "      <td>96.0</td>\n",
              "      <td>8.277857e+06</td>\n",
              "      <td>8.399296e+06</td>\n",
              "      <td>0.0</td>\n",
              "      <td>0.6</td>\n",
              "      <td>0.000000</td>\n",
              "      <td>2.727200</td>\n",
              "    </tr>\n",
              "    <tr>\n",
              "      <th>3</th>\n",
              "      <td>AL011851</td>\n",
              "      <td>UNNAMED</td>\n",
              "      <td>18510625</td>\n",
              "      <td>1800</td>\n",
              "      <td></td>\n",
              "      <td>HU</td>\n",
              "      <td>28.1N</td>\n",
              "      <td>96.5W</td>\n",
              "      <td>80</td>\n",
              "      <td>-999</td>\n",
              "      <td>...</td>\n",
              "      <td>-999</td>\n",
              "      <td>28.1</td>\n",
              "      <td>N</td>\n",
              "      <td>96.5</td>\n",
              "      <td>8.292437e+06</td>\n",
              "      <td>8.448174e+06</td>\n",
              "      <td>0.1</td>\n",
              "      <td>0.5</td>\n",
              "      <td>0.197396</td>\n",
              "      <td>2.329212</td>\n",
              "    </tr>\n",
              "    <tr>\n",
              "      <th>4</th>\n",
              "      <td>AL011851</td>\n",
              "      <td>UNNAMED</td>\n",
              "      <td>18510625</td>\n",
              "      <td>2100</td>\n",
              "      <td>L</td>\n",
              "      <td>HU</td>\n",
              "      <td>28.2N</td>\n",
              "      <td>96.8W</td>\n",
              "      <td>80</td>\n",
              "      <td>-999</td>\n",
              "      <td>...</td>\n",
              "      <td>-999</td>\n",
              "      <td>28.2</td>\n",
              "      <td>N</td>\n",
              "      <td>96.8</td>\n",
              "      <td>8.297119e+06</td>\n",
              "      <td>8.479684e+06</td>\n",
              "      <td>0.1</td>\n",
              "      <td>0.3</td>\n",
              "      <td>0.321751</td>\n",
              "      <td>1.455758</td>\n",
              "    </tr>\n",
              "  </tbody>\n",
              "</table>\n",
              "<p>5 rows × 31 columns</p>\n",
              "</div>\n",
              "      <button class=\"colab-df-convert\" onclick=\"convertToInteractive('df-eb1b07cd-98fa-4e60-82ea-70e642ee7f68')\"\n",
              "              title=\"Convert this dataframe to an interactive table.\"\n",
              "              style=\"display:none;\">\n",
              "        \n",
              "  <svg xmlns=\"http://www.w3.org/2000/svg\" height=\"24px\"viewBox=\"0 0 24 24\"\n",
              "       width=\"24px\">\n",
              "    <path d=\"M0 0h24v24H0V0z\" fill=\"none\"/>\n",
              "    <path d=\"M18.56 5.44l.94 2.06.94-2.06 2.06-.94-2.06-.94-.94-2.06-.94 2.06-2.06.94zm-11 1L8.5 8.5l.94-2.06 2.06-.94-2.06-.94L8.5 2.5l-.94 2.06-2.06.94zm10 10l.94 2.06.94-2.06 2.06-.94-2.06-.94-.94-2.06-.94 2.06-2.06.94z\"/><path d=\"M17.41 7.96l-1.37-1.37c-.4-.4-.92-.59-1.43-.59-.52 0-1.04.2-1.43.59L10.3 9.45l-7.72 7.72c-.78.78-.78 2.05 0 2.83L4 21.41c.39.39.9.59 1.41.59.51 0 1.02-.2 1.41-.59l7.78-7.78 2.81-2.81c.8-.78.8-2.07 0-2.86zM5.41 20L4 18.59l7.72-7.72 1.47 1.35L5.41 20z\"/>\n",
              "  </svg>\n",
              "      </button>\n",
              "      \n",
              "  <style>\n",
              "    .colab-df-container {\n",
              "      display:flex;\n",
              "      flex-wrap:wrap;\n",
              "      gap: 12px;\n",
              "    }\n",
              "\n",
              "    .colab-df-convert {\n",
              "      background-color: #E8F0FE;\n",
              "      border: none;\n",
              "      border-radius: 50%;\n",
              "      cursor: pointer;\n",
              "      display: none;\n",
              "      fill: #1967D2;\n",
              "      height: 32px;\n",
              "      padding: 0 0 0 0;\n",
              "      width: 32px;\n",
              "    }\n",
              "\n",
              "    .colab-df-convert:hover {\n",
              "      background-color: #E2EBFA;\n",
              "      box-shadow: 0px 1px 2px rgba(60, 64, 67, 0.3), 0px 1px 3px 1px rgba(60, 64, 67, 0.15);\n",
              "      fill: #174EA6;\n",
              "    }\n",
              "\n",
              "    [theme=dark] .colab-df-convert {\n",
              "      background-color: #3B4455;\n",
              "      fill: #D2E3FC;\n",
              "    }\n",
              "\n",
              "    [theme=dark] .colab-df-convert:hover {\n",
              "      background-color: #434B5C;\n",
              "      box-shadow: 0px 1px 3px 1px rgba(0, 0, 0, 0.15);\n",
              "      filter: drop-shadow(0px 1px 2px rgba(0, 0, 0, 0.3));\n",
              "      fill: #FFFFFF;\n",
              "    }\n",
              "  </style>\n",
              "\n",
              "      <script>\n",
              "        const buttonEl =\n",
              "          document.querySelector('#df-eb1b07cd-98fa-4e60-82ea-70e642ee7f68 button.colab-df-convert');\n",
              "        buttonEl.style.display =\n",
              "          google.colab.kernel.accessAllowed ? 'block' : 'none';\n",
              "\n",
              "        async function convertToInteractive(key) {\n",
              "          const element = document.querySelector('#df-eb1b07cd-98fa-4e60-82ea-70e642ee7f68');\n",
              "          const dataTable =\n",
              "            await google.colab.kernel.invokeFunction('convertToInteractive',\n",
              "                                                     [key], {});\n",
              "          if (!dataTable) return;\n",
              "\n",
              "          const docLinkHtml = 'Like what you see? Visit the ' +\n",
              "            '<a target=\"_blank\" href=https://colab.research.google.com/notebooks/data_table.ipynb>data table notebook</a>'\n",
              "            + ' to learn more about interactive tables.';\n",
              "          element.innerHTML = '';\n",
              "          dataTable['output_type'] = 'display_data';\n",
              "          await google.colab.output.renderOutput(dataTable, element);\n",
              "          const docLink = document.createElement('div');\n",
              "          docLink.innerHTML = docLinkHtml;\n",
              "          element.appendChild(docLink);\n",
              "        }\n",
              "      </script>\n",
              "    </div>\n",
              "  </div>\n",
              "  "
            ]
          },
          "metadata": {},
          "execution_count": 15
        }
      ],
      "source": [
        "data['trans_speed'] = data.apply(lambda x: haversine(x['difference_lat'],x['difference_lon'],x['Latitude1'],x['Longitude1']), axis=1)\n",
        "data.head(5)"
      ]
    },
    {
      "cell_type": "code",
      "execution_count": 16,
      "metadata": {
        "id": "HPopVbKDCBvH",
        "colab": {
          "base_uri": "https://localhost:8080/"
        },
        "outputId": "fe4c7f7d-d441-49d1-b30c-7ace39c5e896"
      },
      "outputs": [
        {
          "output_type": "execute_result",
          "data": {
            "text/plain": [
              "40.48433027777778"
            ]
          },
          "metadata": {},
          "execution_count": 16
        }
      ],
      "source": [
        "max(data['trans_speed'][1:])"
      ]
    },
    {
      "cell_type": "code",
      "execution_count": 17,
      "metadata": {
        "id": "tBQZFfR3CXPc",
        "colab": {
          "base_uri": "https://localhost:8080/",
          "height": 428
        },
        "outputId": "f102573a-3ad8-4bb9-9770-5496dfe2fc98"
      },
      "outputs": [
        {
          "output_type": "display_data",
          "data": {
            "text/plain": [
              "<Figure size 720x504 with 1 Axes>"
            ],
            "image/png": "[encoded data removed]"
          },
          "metadata": {
            "needs_background": "light"
          }
        }
      ],
      "source": [
        "\n",
        "from matplotlib import pyplot as plt\n",
        "fig, ax = plt.subplots(figsize =(10, 7))\n",
        "ax.hist(data['trans_speed'], bins = range(0,44,2))\n",
        " \n",
        "# Show plot\n",
        "plt.show()"
      ]
    },
    {
      "cell_type": "code",
      "execution_count": 18,
      "metadata": {
        "id": "1v8bxBWnOWqs"
      },
      "outputs": [],
      "source": [
        "clean =  data['Longitude1']>=-180\n",
        "data3 = data[clean]\n"
      ]
    },
    {
      "cell_type": "code",
      "execution_count": 19,
      "metadata": {
        "id": "WMbbzy-0Gfib",
        "colab": {
          "base_uri": "https://localhost:8080/",
          "height": 445
        },
        "outputId": "57c447e1-a524-4169-ab67-1a9ef9c0d27a"
      },
      "outputs": [
        {
          "output_type": "display_data",
          "data": {
            "text/plain": [
              "<Figure size 720x504 with 1 Axes>"
            ],
            "image/png": "[encoded data removed]"
          },
          "metadata": {
            "needs_background": "light"
          }
        },
        {
          "output_type": "execute_result",
          "data": {
            "text/plain": [
              "0.0"
            ]
          },
          "metadata": {},
          "execution_count": 19
        }
      ],
      "source": [
        "from matplotlib import pyplot as plt\n",
        "fig, ax = plt.subplots(figsize =(10, 7))\n",
        "ax.hist(data3['Longitude1'], bins = range(-150,100,5))\n",
        " \n",
        "# Show plot\n",
        "plt.show()\n",
        "min(data3['Longitude1'])"
      ]
    },
    {
      "cell_type": "code",
      "execution_count": 20,
      "metadata": {
        "id": "ltfg7k1zDOSA"
      },
      "outputs": [],
      "source": [
        "data2 = data.groupby('ID').filter(lambda x: len(x) > 6)"
      ]
    },
    {
      "cell_type": "code",
      "execution_count": 21,
      "metadata": {
        "id": "q66eccoQDZh-",
        "colab": {
          "base_uri": "https://localhost:8080/"
        },
        "outputId": "ef542229-7be2-473b-9b7e-5cf38e04ac08"
      },
      "outputs": [
        {
          "output_type": "execute_result",
          "data": {
            "text/plain": [
              "359.1"
            ]
          },
          "metadata": {},
          "execution_count": 21
        }
      ],
      "source": [
        "max(data2['Longitude1'])"
      ]
    },
    {
      "cell_type": "code",
      "execution_count": 22,
      "metadata": {
        "id": "1mzEBNRfDm4Q",
        "colab": {
          "base_uri": "https://localhost:8080/"
        },
        "outputId": "c158c3ae-3ef1-4bb1-e787-a11122099947"
      },
      "outputs": [
        {
          "output_type": "execute_result",
          "data": {
            "text/plain": [
              "0.0"
            ]
          },
          "metadata": {},
          "execution_count": 22
        }
      ],
      "source": [
        "min(data2['Longitude1'])"
      ]
    },
    {
      "cell_type": "markdown",
      "metadata": {
        "id": "Q_ZO_3aCF2uz"
      },
      "source": [
        ""
      ]
    },
    {
      "cell_type": "code",
      "execution_count": 23,
      "metadata": {
        "id": "tQFGtb1iFx5G",
        "colab": {
          "base_uri": "https://localhost:8080/"
        },
        "outputId": "1dbb1d98-2f9c-46f0-9105-0eb233f4fa9f"
      },
      "outputs": [
        {
          "output_type": "stream",
          "name": "stdout",
          "text": [
            "Empty DataFrame\n",
            "Columns: [ID, Name, Date, Time, Event, Status, Latitude, Longitude, Maximum Wind, Minimum Pressure, Low Wind NE, Low Wind SE, Low Wind SW, Low Wind NW, Moderate Wind NE, Moderate Wind SE, Moderate Wind SW, Moderate Wind NW, High Wind NE, High Wind SE, High Wind SW, High Wind NW, Latitude1, Latitudesign, Longitude1, lcc_x, lcc_y, difference_lat, difference_lon, trans_dir, trans_speed]\n",
            "Index: []\n",
            "\n",
            "[0 rows x 31 columns]\n"
          ]
        }
      ],
      "source": [
        "is_359 =  data2['Longitude1']<-109.5\n",
        "data_359 = data2[is_359]\n",
        "print(data_359)"
      ]
    },
    {
      "cell_type": "code",
      "execution_count": 24,
      "metadata": {
        "id": "c1jwWp8IPDze"
      },
      "outputs": [],
      "source": [
        "a1 = lamb.geographic2cartesian(7.4, 109.5)\n",
        "a2 = lamb.geographic2cartesian(81, 109.5)\n",
        "a3 = lamb.geographic2cartesian(7.4, 63)\n",
        "a4 = lamb.geographic2cartesian(81, 63)\n",
        "\n"
      ]
    },
    {
      "cell_type": "code",
      "execution_count": null,
      "metadata": {
        "id": "NeXqLo5xRX2U"
      },
      "outputs": [],
      "source": [
        ""
      ]
    },
    {
      "cell_type": "code",
      "execution_count": 25,
      "metadata": {
        "id": "b2RVCThLRqQx",
        "colab": {
          "base_uri": "https://localhost:8080/"
        },
        "outputId": "a0366b0a-4ef9-420f-b6a1-db0f75911854"
      },
      "outputs": [
        {
          "output_type": "stream",
          "name": "stdout",
          "text": [
            "40385996717224.54 9367741.199450348 8622355.348500488\n"
          ]
        }
      ],
      "source": [
        "d1=math.sqrt((a2[0]-a3[0])**2+(a2[1]-a3[1])**2);\n",
        "d2=math.sqrt((a1[0]-a3[0])**2+(a2[1]-a3[1])**2);\n",
        "area_gridspace = 0.5*d1*d2\n",
        "print(area_gridspace,d1,d2)"
      ]
    },
    {
      "cell_type": "code",
      "execution_count": 26,
      "metadata": {
        "id": "BLKBZ9koJJYM",
        "colab": {
          "base_uri": "https://localhost:8080/"
        },
        "outputId": "68a3f0dd-73d5-4504-fd4b-a2539625d9b9"
      },
      "outputs": [
        {
          "output_type": "execute_result",
          "data": {
            "text/plain": [
              "((array(11121468.95094128), array(8744214.95371708)),\n",
              " (array(2750791.0781381), array(11950825.67104745)),\n",
              " (array(7737114.33312355), array(4020431.25609741)),\n",
              " (array(2008736.91772168), array(10915088.06622571)))"
            ]
          },
          "metadata": {},
          "execution_count": 26
        }
      ],
      "source": [
        "a1,a2,a3,a4"
      ]
    },
    {
      "cell_type": "code",
      "execution_count": 27,
      "metadata": {
        "id": "1LH8lYULKhep",
        "colab": {
          "base_uri": "https://localhost:8080/"
        },
        "outputId": "e01f0617-55ea-442b-cf7c-37f7358c10f2"
      },
      "outputs": [
        {
          "output_type": "execute_result",
          "data": {
            "text/plain": [
              "105916.62957935953"
            ]
          },
          "metadata": {},
          "execution_count": 27
        }
      ],
      "source": [
        "step_size=math.sqrt(area_gridspace)/60;\n",
        "step_size"
      ]
    },
    {
      "cell_type": "code",
      "execution_count": 28,
      "metadata": {
        "id": "zE4zCxcEKvQG",
        "colab": {
          "base_uri": "https://localhost:8080/"
        },
        "outputId": "d248c379-bfb7-4908-abca-dd3c09a3d11d"
      },
      "outputs": [
        {
          "output_type": "stream",
          "name": "stdout",
          "text": [
            "(60, 60)\n"
          ]
        }
      ],
      "source": [
        "storm_cnt_mat=np.zeros([60,60])\n",
        "print(storm_cnt_mat.shape)"
      ]
    },
    {
      "cell_type": "code",
      "execution_count": 29,
      "metadata": {
        "id": "TAgnUfCfLO8Q"
      },
      "outputs": [],
      "source": [
        "import collections\n",
        "d = collections.defaultdict(dict)"
      ]
    },
    {
      "cell_type": "code",
      "execution_count": 30,
      "metadata": {
        "id": "oSLh1ERgPPwT",
        "colab": {
          "base_uri": "https://localhost:8080/"
        },
        "outputId": "ce515aa7-aefe-4a3c-f757-0389d5775fa8"
      },
      "outputs": [
        {
          "output_type": "execute_result",
          "data": {
            "text/plain": [
              "Index(['ID', 'Name', 'Date', 'Time', 'Event', 'Status', 'Latitude',\n",
              "       'Longitude', 'Maximum Wind', 'Minimum Pressure', 'Low Wind NE',\n",
              "       'Low Wind SE', 'Low Wind SW', 'Low Wind NW', 'Moderate Wind NE',\n",
              "       'Moderate Wind SE', 'Moderate Wind SW', 'Moderate Wind NW',\n",
              "       'High Wind NE', 'High Wind SE', 'High Wind SW', 'High Wind NW',\n",
              "       'Latitude1', 'Latitudesign', 'Longitude1', 'lcc_x', 'lcc_y',\n",
              "       'difference_lat', 'difference_lon', 'trans_dir', 'trans_speed'],\n",
              "      dtype='object')"
            ]
          },
          "metadata": {},
          "execution_count": 30
        }
      ],
      "source": [
        "data2.columns"
      ]
    },
    {
      "cell_type": "code",
      "execution_count": 31,
      "metadata": {
        "id": "dUrwWIGRPSM3"
      },
      "outputs": [],
      "source": [
        "data2['col'] = (data2['lcc_x']-11121468.95094128)/step_size\n",
        "data2['col'] = data2['col'].apply(np.ceil)\n",
        "data2['row'] = (data2['lcc_y']-8744214.95371708)/step_size\n",
        "data2['row'] = data2['row'].apply(np.ceil)"
      ]
    },
    {
      "cell_type": "code",
      "execution_count": 32,
      "metadata": {
        "id": "duOjGwhiTOEX",
        "colab": {
          "base_uri": "https://localhost:8080/"
        },
        "outputId": "95c683b4-055c-4216-ffb3-19519e091a56"
      },
      "outputs": [
        {
          "output_type": "execute_result",
          "data": {
            "text/plain": [
              "(3763, 3)"
            ]
          },
          "metadata": {},
          "execution_count": 32
        }
      ],
      "source": [
        "data3 = data2.groupby(['col', 'row']).size().reset_index(name='count')\n",
        "data3.head(4)\n",
        "data3.shape"
      ]
    },
    {
      "cell_type": "code",
      "execution_count": 33,
      "metadata": {
        "id": "__MF_MIlVvEm",
        "colab": {
          "base_uri": "https://localhost:8080/",
          "height": 445
        },
        "outputId": "ac3a903b-a0b3-4eec-c153-e670189be881"
      },
      "outputs": [
        {
          "output_type": "display_data",
          "data": {
            "text/plain": [
              "<Figure size 720x504 with 1 Axes>"
            ],
            "image/png": "[encoded data removed]"
          },
          "metadata": {
            "needs_background": "light"
          }
        },
        {
          "output_type": "execute_result",
          "data": {
            "text/plain": [
              "1"
            ]
          },
          "metadata": {},
          "execution_count": 33
        }
      ],
      "source": [
        "from matplotlib import pyplot as plt\n",
        "fig, ax = plt.subplots(figsize =(10, 7))\n",
        "ax.hist(data3['count'], bins = range(0,100,5))\n",
        "# Show plot\n",
        "plt.show()\n",
        "min(data3['count'])"
      ]
    },
    {
      "cell_type": "code",
      "source": [
        ""
      ],
      "metadata": {
        "id": "mfrsXxbXRuPr"
      },
      "execution_count": null,
      "outputs": []
    },
    {
      "cell_type": "code",
      "source": [
        "\n"
      ],
      "metadata": {
        "id": "tJoMg3vp0T5T"
      },
      "execution_count": null,
      "outputs": []
    },
    {
      "cell_type": "code",
      "source": [
        "data2.columns"
      ],
      "metadata": {
        "id": "IeeKr5UXBmZl",
        "colab": {
          "base_uri": "https://localhost:8080/"
        },
        "outputId": "da3cbdfb-c85a-4d53-ce50-ea2774633605"
      },
      "execution_count": 34,
      "outputs": [
        {
          "output_type": "execute_result",
          "data": {
            "text/plain": [
              "Index(['ID', 'Name', 'Date', 'Time', 'Event', 'Status', 'Latitude',\n",
              "       'Longitude', 'Maximum Wind', 'Minimum Pressure', 'Low Wind NE',\n",
              "       'Low Wind SE', 'Low Wind SW', 'Low Wind NW', 'Moderate Wind NE',\n",
              "       'Moderate Wind SE', 'Moderate Wind SW', 'Moderate Wind NW',\n",
              "       'High Wind NE', 'High Wind SE', 'High Wind SW', 'High Wind NW',\n",
              "       'Latitude1', 'Latitudesign', 'Longitude1', 'lcc_x', 'lcc_y',\n",
              "       'difference_lat', 'difference_lon', 'trans_dir', 'trans_speed', 'col',\n",
              "       'row'],\n",
              "      dtype='object')"
            ]
          },
          "metadata": {},
          "execution_count": 34
        }
      ]
    },
    {
      "cell_type": "code",
      "source": [
        ""
      ],
      "metadata": {
        "id": "m1-JBB4BCYUg"
      },
      "execution_count": null,
      "outputs": []
    },
    {
      "cell_type": "code",
      "source": [
        "X_points_to_trav = np.ceil(math.sqrt((a1[0]-a3[0])**2+(a1[1]-a3[1])**2)/step_size).astype(int);\n",
        "#Y_points_to_trav = a4[1]-a2[1]/step_size:\n",
        "print('No of points in X',X_points_to_trav)\n",
        "\n",
        "Y_points_to_trav=np.ceil(math.sqrt((a1[0]-a2[0])**2+(a1[1]-a2[1])**2)/step_size).astype(int);\n",
        "print('No of points in Y',Y_points_to_trav)\n",
        "\n",
        "#matrix which contains the count of all the storms \n",
        "storm_cnt=np.zeros([X_points_to_trav,Y_points_to_trav])"
      ],
      "metadata": {
        "id": "yLxOzKyL6zUP",
        "colab": {
          "base_uri": "https://localhost:8080/"
        },
        "outputId": "6cc118ee-3629-458a-89bf-caa75dee7744"
      },
      "execution_count": 35,
      "outputs": [
        {
          "output_type": "stream",
          "name": "stdout",
          "text": [
            "No of points in X 55\n",
            "No of points in Y 85\n"
          ]
        }
      ]
    },
    {
      "cell_type": "code",
      "source": [
        "from inspect import EndOfBlock\n",
        "hurricane_lcc_x = np.array(data2.get('lcc_x'));\n",
        "hurricane_lcc_y = np.array(data2.get('lcc_y'));\n",
        "print(hurricane_lcc_x.shape)\n",
        "print(hurricane_lcc_y.shape)\n",
        "concat_mat = np.vstack([hurricane_lcc_x,hurricane_lcc_y]).T\n",
        "print(concat_mat.shape)\n",
        "np.testing.assert_array_equal(concat_mat.T[0],hurricane_lcc_x, err_msg='array is wrong', verbose=True);\n",
        "a=[a4[0],a3[1]];\n",
        "b=[a4[0]+step_size,a3[1]];\n",
        "c=[a4[0]+step_size,a3[1]+step_size];\n",
        "d=[a4[0]+step_size,a3[1]];\n",
        "x_axis=0;\n",
        "y_axis=0;\n",
        "row= np.ceil((a1[0]-a3[0])/step_size).astype(int);\n",
        "col = np.ceil((a2[1]-a3[1])/step_size).astype(int);\n",
        "print(row,col)\n",
        "displacement_mat = np.zeros((row,col));\n",
        "print(displacement_mat.shape)\n",
        "while d[1] <= a2[1]:\n",
        "  y_axis = y_axis+1;\n",
        "  x_axis=0;\n",
        "  print('y_axis',y_axis);\n",
        "  while b[0] <= a1[0]:\n",
        "      lcc_x_constrained_idx = np.where((concat_mat[0] >= a[0]) & (concat_mat[0] < b[0])); \n",
        "      lcc_x_constrained_mat = concat_mat[lcc_x_constrained_idx];\n",
        "      if lcc_x_constrained_mat.size == 0:\n",
        "        x_axis=x_axis+1;\n",
        "        a[0] = a[0] + x_axis*step_size;\n",
        "        b[0] = b[0] + x_axis*step_size;\n",
        "        d[0] = d[0] + x_axis*step_size; \n",
        "      else:\n",
        "        lcc_y_constrained = np.where((lcc_x_constrained_mat >= a[1]) & (lcc_x_constrained_mat) < d[1])\n",
        "        displacement_mat[x_axis][y_axis] = lcc_y_constrained;\n",
        "        x_axis=x_axis+1;\n",
        "        a[0] = a[0] + x_axis*step_size;\n",
        "        b[0] = b[0] + x_axis*step_size;\n",
        "        d[0] = d[0] + x_axis*step_size; \n",
        "      print('x_axis',x_axis);   \n",
        "  a[1] = a[1] + y_axis*step_size;\n",
        "  b[1] = b[1] + y_axis*step_size;\n",
        "  d[1] = d[1] + y_axis*step_size;  \n",
        "\n",
        "\n",
        "\n",
        "\n",
        "\n"
      ],
      "metadata": {
        "colab": {
          "base_uri": "https://localhost:8080/"
        },
        "id": "eRaFc-qEThv7",
        "outputId": "eb314b2f-b141-4b0b-8f35-c6ad39454d19"
      },
      "execution_count": 76,
      "outputs": [
        {
          "output_type": "stream",
          "name": "stdout",
          "text": [
            "(48792,)\n",
            "(48792,)\n",
            "(48792, 2)\n",
            "32 75\n",
            "(32, 75)\n",
            "y_axis 1\n",
            "x_axis 1\n",
            "x_axis 2\n",
            "x_axis 3\n",
            "x_axis 4\n",
            "x_axis 5\n",
            "x_axis 6\n",
            "x_axis 7\n",
            "x_axis 8\n",
            "x_axis 9\n",
            "x_axis 10\n",
            "x_axis 11\n",
            "x_axis 12\n",
            "x_axis 13\n",
            "y_axis 2\n",
            "y_axis 3\n",
            "y_axis 4\n",
            "y_axis 5\n",
            "y_axis 6\n",
            "y_axis 7\n",
            "y_axis 8\n",
            "y_axis 9\n",
            "y_axis 10\n",
            "y_axis 11\n",
            "y_axis 12\n"
          ]
        }
      ]
    }
  ],
  "metadata": {
    "colab": {
      "collapsed_sections": [],
      "name": "Copy of 228_hariprasad",
      "provenance": [],
      "include_colab_link": true
    },
    "kernelspec": {
      "display_name": "Python 3",
      "name": "python3"
    },
    "language_info": {
      "name": "python"
    }
  },
  "nbformat": 4,
  "nbformat_minor": 0
}