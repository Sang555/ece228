{
  "nbformat": 4,
  "nbformat_minor": 0,
  "metadata": {
    "colab": {
      "name": "ECE228project.ipynb",
      "provenance": [],
      "collapsed_sections": []
    },
    "kernelspec": {
      "name": "python3",
      "display_name": "Python 3"
    },
    "language_info": {
      "name": "python"
    }
  },
  "cells": [
    {
      "cell_type": "code",
      "execution_count": null,
      "metadata": {
        "id": "MKZc1FCxrLk6"
      },
      "outputs": [],
      "source": [
        "import pandas as pd\n",
        "import numpy as np\n"
      ]
    },
    {
      "cell_type": "code",
      "source": [
        "%cd sample_data"
      ],
      "metadata": {
        "colab": {
          "base_uri": "https://localhost:8080/"
        },
        "id": "0WpAg48bs5qA",
        "outputId": "0b6433aa-157f-4392-8ac3-a4d65db9c58f"
      },
      "execution_count": null,
      "outputs": [
        {
          "output_type": "stream",
          "name": "stdout",
          "text": [
            "/content/sample_data\n"
          ]
        }
      ]
    },
    {
      "cell_type": "code",
      "source": [
        "!ls"
      ],
      "metadata": {
        "colab": {
          "base_uri": "https://localhost:8080/"
        },
        "id": "oKs9wFl-thXz",
        "outputId": "43ff66af-0949-449d-fb29-89f1b54bee46"
      },
      "execution_count": null,
      "outputs": [
        {
          "output_type": "stream",
          "name": "stdout",
          "text": [
            "anscombe.json\t\t      lambert_test.py\t\t README.md\n",
            "atlantic.csv\t\t      mnist_test.csv\t\t untitled\n",
            "california_housing_test.csv   mnist_train_small.csv\t untitled1\n",
            "california_housing_train.csv  projection_constants.json\n",
            "lambert.py\t\t      __pycache__\n"
          ]
        }
      ]
    },
    {
      "cell_type": "code",
      "source": [
        "data= pd.read_csv(\"atlantic.csv\")\n",
        "data.head(3)"
      ],
      "metadata": {
        "id": "7qkz7OsLrjGD",
        "colab": {
          "base_uri": "https://localhost:8080/",
          "height": 271
        },
        "outputId": "4af50820-2dbb-470d-ff51-d402f984431f"
      },
      "execution_count": null,
      "outputs": [
        {
          "output_type": "execute_result",
          "data": {
            "text/plain": [
              "         ID                 Name      Date  Time Event Status Latitude  \\\n",
              "0  AL011851              UNNAMED  18510625     0           HU    28.0N   \n",
              "1  AL011851              UNNAMED  18510625   600           HU    28.0N   \n",
              "2  AL011851              UNNAMED  18510625  1200           HU    28.0N   \n",
              "\n",
              "  Longitude  Maximum Wind  Minimum Pressure  ...  Low Wind SW  Low Wind NW  \\\n",
              "0     94.8W            80              -999  ...         -999         -999   \n",
              "1     95.4W            80              -999  ...         -999         -999   \n",
              "2     96.0W            80              -999  ...         -999         -999   \n",
              "\n",
              "   Moderate Wind NE  Moderate Wind SE  Moderate Wind SW  Moderate Wind NW  \\\n",
              "0              -999              -999              -999              -999   \n",
              "1              -999              -999              -999              -999   \n",
              "2              -999              -999              -999              -999   \n",
              "\n",
              "   High Wind NE  High Wind SE  High Wind SW  High Wind NW  \n",
              "0          -999          -999          -999          -999  \n",
              "1          -999          -999          -999          -999  \n",
              "2          -999          -999          -999          -999  \n",
              "\n",
              "[3 rows x 22 columns]"
            ],
            "text/html": [
              "\n",
              "  <div id=\"df-f444c89e-cc72-4818-9d1e-61c1f5dc5061\">\n",
              "    <div class=\"colab-df-container\">\n",
              "      <div>\n",
              "<style scoped>\n",
              "    .dataframe tbody tr th:only-of-type {\n",
              "        vertical-align: middle;\n",
              "    }\n",
              "\n",
              "    .dataframe tbody tr th {\n",
              "        vertical-align: top;\n",
              "    }\n",
              "\n",
              "    .dataframe thead th {\n",
              "        text-align: right;\n",
              "    }\n",
              "</style>\n",
              "<table border=\"1\" class=\"dataframe\">\n",
              "  <thead>\n",
              "    <tr style=\"text-align: right;\">\n",
              "      <th></th>\n",
              "      <th>ID</th>\n",
              "      <th>Name</th>\n",
              "      <th>Date</th>\n",
              "      <th>Time</th>\n",
              "      <th>Event</th>\n",
              "      <th>Status</th>\n",
              "      <th>Latitude</th>\n",
              "      <th>Longitude</th>\n",
              "      <th>Maximum Wind</th>\n",
              "      <th>Minimum Pressure</th>\n",
              "      <th>...</th>\n",
              "      <th>Low Wind SW</th>\n",
              "      <th>Low Wind NW</th>\n",
              "      <th>Moderate Wind NE</th>\n",
              "      <th>Moderate Wind SE</th>\n",
              "      <th>Moderate Wind SW</th>\n",
              "      <th>Moderate Wind NW</th>\n",
              "      <th>High Wind NE</th>\n",
              "      <th>High Wind SE</th>\n",
              "      <th>High Wind SW</th>\n",
              "      <th>High Wind NW</th>\n",
              "    </tr>\n",
              "  </thead>\n",
              "  <tbody>\n",
              "    <tr>\n",
              "      <th>0</th>\n",
              "      <td>AL011851</td>\n",
              "      <td>UNNAMED</td>\n",
              "      <td>18510625</td>\n",
              "      <td>0</td>\n",
              "      <td></td>\n",
              "      <td>HU</td>\n",
              "      <td>28.0N</td>\n",
              "      <td>94.8W</td>\n",
              "      <td>80</td>\n",
              "      <td>-999</td>\n",
              "      <td>...</td>\n",
              "      <td>-999</td>\n",
              "      <td>-999</td>\n",
              "      <td>-999</td>\n",
              "      <td>-999</td>\n",
              "      <td>-999</td>\n",
              "      <td>-999</td>\n",
              "      <td>-999</td>\n",
              "      <td>-999</td>\n",
              "      <td>-999</td>\n",
              "      <td>-999</td>\n",
              "    </tr>\n",
              "    <tr>\n",
              "      <th>1</th>\n",
              "      <td>AL011851</td>\n",
              "      <td>UNNAMED</td>\n",
              "      <td>18510625</td>\n",
              "      <td>600</td>\n",
              "      <td></td>\n",
              "      <td>HU</td>\n",
              "      <td>28.0N</td>\n",
              "      <td>95.4W</td>\n",
              "      <td>80</td>\n",
              "      <td>-999</td>\n",
              "      <td>...</td>\n",
              "      <td>-999</td>\n",
              "      <td>-999</td>\n",
              "      <td>-999</td>\n",
              "      <td>-999</td>\n",
              "      <td>-999</td>\n",
              "      <td>-999</td>\n",
              "      <td>-999</td>\n",
              "      <td>-999</td>\n",
              "      <td>-999</td>\n",
              "      <td>-999</td>\n",
              "    </tr>\n",
              "    <tr>\n",
              "      <th>2</th>\n",
              "      <td>AL011851</td>\n",
              "      <td>UNNAMED</td>\n",
              "      <td>18510625</td>\n",
              "      <td>1200</td>\n",
              "      <td></td>\n",
              "      <td>HU</td>\n",
              "      <td>28.0N</td>\n",
              "      <td>96.0W</td>\n",
              "      <td>80</td>\n",
              "      <td>-999</td>\n",
              "      <td>...</td>\n",
              "      <td>-999</td>\n",
              "      <td>-999</td>\n",
              "      <td>-999</td>\n",
              "      <td>-999</td>\n",
              "      <td>-999</td>\n",
              "      <td>-999</td>\n",
              "      <td>-999</td>\n",
              "      <td>-999</td>\n",
              "      <td>-999</td>\n",
              "      <td>-999</td>\n",
              "    </tr>\n",
              "  </tbody>\n",
              "</table>\n",
              "<p>3 rows × 22 columns</p>\n",
              "</div>\n",
              "      <button class=\"colab-df-convert\" onclick=\"convertToInteractive('df-f444c89e-cc72-4818-9d1e-61c1f5dc5061')\"\n",
              "              title=\"Convert this dataframe to an interactive table.\"\n",
              "              style=\"display:none;\">\n",
              "        \n",
              "  <svg xmlns=\"http://www.w3.org/2000/svg\" height=\"24px\"viewBox=\"0 0 24 24\"\n",
              "       width=\"24px\">\n",
              "    <path d=\"M0 0h24v24H0V0z\" fill=\"none\"/>\n",
              "    <path d=\"M18.56 5.44l.94 2.06.94-2.06 2.06-.94-2.06-.94-.94-2.06-.94 2.06-2.06.94zm-11 1L8.5 8.5l.94-2.06 2.06-.94-2.06-.94L8.5 2.5l-.94 2.06-2.06.94zm10 10l.94 2.06.94-2.06 2.06-.94-2.06-.94-.94-2.06-.94 2.06-2.06.94z\"/><path d=\"M17.41 7.96l-1.37-1.37c-.4-.4-.92-.59-1.43-.59-.52 0-1.04.2-1.43.59L10.3 9.45l-7.72 7.72c-.78.78-.78 2.05 0 2.83L4 21.41c.39.39.9.59 1.41.59.51 0 1.02-.2 1.41-.59l7.78-7.78 2.81-2.81c.8-.78.8-2.07 0-2.86zM5.41 20L4 18.59l7.72-7.72 1.47 1.35L5.41 20z\"/>\n",
              "  </svg>\n",
              "      </button>\n",
              "      \n",
              "  <style>\n",
              "    .colab-df-container {\n",
              "      display:flex;\n",
              "      flex-wrap:wrap;\n",
              "      gap: 12px;\n",
              "    }\n",
              "\n",
              "    .colab-df-convert {\n",
              "      background-color: #E8F0FE;\n",
              "      border: none;\n",
              "      border-radius: 50%;\n",
              "      cursor: pointer;\n",
              "      display: none;\n",
              "      fill: #1967D2;\n",
              "      height: 32px;\n",
              "      padding: 0 0 0 0;\n",
              "      width: 32px;\n",
              "    }\n",
              "\n",
              "    .colab-df-convert:hover {\n",
              "      background-color: #E2EBFA;\n",
              "      box-shadow: 0px 1px 2px rgba(60, 64, 67, 0.3), 0px 1px 3px 1px rgba(60, 64, 67, 0.15);\n",
              "      fill: #174EA6;\n",
              "    }\n",
              "\n",
              "    [theme=dark] .colab-df-convert {\n",
              "      background-color: #3B4455;\n",
              "      fill: #D2E3FC;\n",
              "    }\n",
              "\n",
              "    [theme=dark] .colab-df-convert:hover {\n",
              "      background-color: #434B5C;\n",
              "      box-shadow: 0px 1px 3px 1px rgba(0, 0, 0, 0.15);\n",
              "      filter: drop-shadow(0px 1px 2px rgba(0, 0, 0, 0.3));\n",
              "      fill: #FFFFFF;\n",
              "    }\n",
              "  </style>\n",
              "\n",
              "      <script>\n",
              "        const buttonEl =\n",
              "          document.querySelector('#df-f444c89e-cc72-4818-9d1e-61c1f5dc5061 button.colab-df-convert');\n",
              "        buttonEl.style.display =\n",
              "          google.colab.kernel.accessAllowed ? 'block' : 'none';\n",
              "\n",
              "        async function convertToInteractive(key) {\n",
              "          const element = document.querySelector('#df-f444c89e-cc72-4818-9d1e-61c1f5dc5061');\n",
              "          const dataTable =\n",
              "            await google.colab.kernel.invokeFunction('convertToInteractive',\n",
              "                                                     [key], {});\n",
              "          if (!dataTable) return;\n",
              "\n",
              "          const docLinkHtml = 'Like what you see? Visit the ' +\n",
              "            '<a target=\"_blank\" href=https://colab.research.google.com/notebooks/data_table.ipynb>data table notebook</a>'\n",
              "            + ' to learn more about interactive tables.';\n",
              "          element.innerHTML = '';\n",
              "          dataTable['output_type'] = 'display_data';\n",
              "          await google.colab.output.renderOutput(dataTable, element);\n",
              "          const docLink = document.createElement('div');\n",
              "          docLink.innerHTML = docLinkHtml;\n",
              "          element.appendChild(docLink);\n",
              "        }\n",
              "      </script>\n",
              "    </div>\n",
              "  </div>\n",
              "  "
            ]
          },
          "metadata": {},
          "execution_count": 183
        }
      ]
    },
    {
      "cell_type": "code",
      "source": [
        "len(data.ID.unique())"
      ],
      "metadata": {
        "colab": {
          "base_uri": "https://localhost:8080/"
        },
        "id": "C-jH_e47u0IX",
        "outputId": "37da5d30-7a2a-49c1-96b1-d2bf644db770"
      },
      "execution_count": null,
      "outputs": [
        {
          "output_type": "execute_result",
          "data": {
            "text/plain": [
              "1814"
            ]
          },
          "metadata": {},
          "execution_count": 84
        }
      ]
    },
    {
      "cell_type": "code",
      "source": [
        "data.groupby(by=[\"ID\"]).Name.count()"
      ],
      "metadata": {
        "colab": {
          "base_uri": "https://localhost:8080/"
        },
        "id": "JM7tzUt-vYGz",
        "outputId": "698a5a23-36b3-48b9-b78e-ebaf1a9c9b73"
      },
      "execution_count": null,
      "outputs": [
        {
          "output_type": "execute_result",
          "data": {
            "text/plain": [
              "ID\n",
              "AL011851    14\n",
              "AL011852    45\n",
              "AL011853     1\n",
              "AL011854    11\n",
              "AL011855     1\n",
              "            ..\n",
              "AL282005    33\n",
              "AL291969    17\n",
              "AL292005    42\n",
              "AL302005    43\n",
              "AL312005    36\n",
              "Name: Name, Length: 1814, dtype: int64"
            ]
          },
          "metadata": {},
          "execution_count": 184
        }
      ]
    },
    {
      "cell_type": "code",
      "source": [
        "data.groupby(by=[\"ID\"]).Name.count().max()"
      ],
      "metadata": {
        "colab": {
          "base_uri": "https://localhost:8080/"
        },
        "id": "Gg-DVZRHwPjc",
        "outputId": "ae31ec0d-6748-4517-e5c7-200fa8b47252"
      },
      "execution_count": null,
      "outputs": [
        {
          "output_type": "execute_result",
          "data": {
            "text/plain": [
              "133"
            ]
          },
          "metadata": {},
          "execution_count": 185
        }
      ]
    },
    {
      "cell_type": "code",
      "source": [
        "data.describe()"
      ],
      "metadata": {
        "colab": {
          "base_uri": "https://localhost:8080/",
          "height": 381
        },
        "id": "1toltHd8uUP0",
        "outputId": "33bbb98b-4254-45e2-ecfe-8e585ba6a804"
      },
      "execution_count": null,
      "outputs": [
        {
          "output_type": "execute_result",
          "data": {
            "text/plain": [
              "               Date          Time  Maximum Wind  Minimum Pressure  \\\n",
              "count  4.910500e+04  49105.000000  49105.000000      49105.000000   \n",
              "mean   1.949802e+07    910.125975     52.005091       -251.406496   \n",
              "std    4.461850e+05    671.043363     27.681902        964.313907   \n",
              "min    1.851062e+07      0.000000    -99.000000       -999.000000   \n",
              "25%    1.911110e+07    600.000000     35.000000       -999.000000   \n",
              "50%    1.956093e+07   1200.000000     45.000000       -999.000000   \n",
              "75%    1.989081e+07   1800.000000     70.000000        990.000000   \n",
              "max    2.015111e+07   2330.000000    165.000000       1024.000000   \n",
              "\n",
              "        Low Wind NE   Low Wind SE   Low Wind SW   Low Wind NW  \\\n",
              "count  49105.000000  49105.000000  49105.000000  49105.000000   \n",
              "mean    -868.671031   -869.315772   -872.676428   -871.409245   \n",
              "std      353.299666    351.548910    342.153768    345.628984   \n",
              "min     -999.000000   -999.000000   -999.000000   -999.000000   \n",
              "25%     -999.000000   -999.000000   -999.000000   -999.000000   \n",
              "50%     -999.000000   -999.000000   -999.000000   -999.000000   \n",
              "75%     -999.000000   -999.000000   -999.000000   -999.000000   \n",
              "max      710.000000    600.000000    640.000000    530.000000   \n",
              "\n",
              "       Moderate Wind NE  Moderate Wind SE  Moderate Wind SW  Moderate Wind NW  \\\n",
              "count      49105.000000      49105.000000      49105.000000      49105.000000   \n",
              "mean        -875.570940       -875.765319       -876.682028       -876.323205   \n",
              "std          333.651396        333.133376        330.526085        331.535176   \n",
              "min         -999.000000       -999.000000       -999.000000       -999.000000   \n",
              "25%         -999.000000       -999.000000       -999.000000       -999.000000   \n",
              "50%         -999.000000       -999.000000       -999.000000       -999.000000   \n",
              "75%         -999.000000       -999.000000       -999.000000       -999.000000   \n",
              "max          360.000000        300.000000        330.000000        360.000000   \n",
              "\n",
              "       High Wind NE  High Wind SE  High Wind SW  High Wind NW  \n",
              "count  49105.000000  49105.000000  49105.000000  49105.000000  \n",
              "mean    -877.564321   -877.655045   -877.923552   -877.786295  \n",
              "std      328.027275    327.774794    327.021430    327.408253  \n",
              "min     -999.000000   -999.000000   -999.000000   -999.000000  \n",
              "25%     -999.000000   -999.000000   -999.000000   -999.000000  \n",
              "50%     -999.000000   -999.000000   -999.000000   -999.000000  \n",
              "75%     -999.000000   -999.000000   -999.000000   -999.000000  \n",
              "max      180.000000    250.000000    150.000000    180.000000  "
            ],
            "text/html": [
              "\n",
              "  <div id=\"df-6d4d9f45-95ce-4e9d-9adb-4e6eace9e44e\">\n",
              "    <div class=\"colab-df-container\">\n",
              "      <div>\n",
              "<style scoped>\n",
              "    .dataframe tbody tr th:only-of-type {\n",
              "        vertical-align: middle;\n",
              "    }\n",
              "\n",
              "    .dataframe tbody tr th {\n",
              "        vertical-align: top;\n",
              "    }\n",
              "\n",
              "    .dataframe thead th {\n",
              "        text-align: right;\n",
              "    }\n",
              "</style>\n",
              "<table border=\"1\" class=\"dataframe\">\n",
              "  <thead>\n",
              "    <tr style=\"text-align: right;\">\n",
              "      <th></th>\n",
              "      <th>Date</th>\n",
              "      <th>Time</th>\n",
              "      <th>Maximum Wind</th>\n",
              "      <th>Minimum Pressure</th>\n",
              "      <th>Low Wind NE</th>\n",
              "      <th>Low Wind SE</th>\n",
              "      <th>Low Wind SW</th>\n",
              "      <th>Low Wind NW</th>\n",
              "      <th>Moderate Wind NE</th>\n",
              "      <th>Moderate Wind SE</th>\n",
              "      <th>Moderate Wind SW</th>\n",
              "      <th>Moderate Wind NW</th>\n",
              "      <th>High Wind NE</th>\n",
              "      <th>High Wind SE</th>\n",
              "      <th>High Wind SW</th>\n",
              "      <th>High Wind NW</th>\n",
              "    </tr>\n",
              "  </thead>\n",
              "  <tbody>\n",
              "    <tr>\n",
              "      <th>count</th>\n",
              "      <td>4.910500e+04</td>\n",
              "      <td>49105.000000</td>\n",
              "      <td>49105.000000</td>\n",
              "      <td>49105.000000</td>\n",
              "      <td>49105.000000</td>\n",
              "      <td>49105.000000</td>\n",
              "      <td>49105.000000</td>\n",
              "      <td>49105.000000</td>\n",
              "      <td>49105.000000</td>\n",
              "      <td>49105.000000</td>\n",
              "      <td>49105.000000</td>\n",
              "      <td>49105.000000</td>\n",
              "      <td>49105.000000</td>\n",
              "      <td>49105.000000</td>\n",
              "      <td>49105.000000</td>\n",
              "      <td>49105.000000</td>\n",
              "    </tr>\n",
              "    <tr>\n",
              "      <th>mean</th>\n",
              "      <td>1.949802e+07</td>\n",
              "      <td>910.125975</td>\n",
              "      <td>52.005091</td>\n",
              "      <td>-251.406496</td>\n",
              "      <td>-868.671031</td>\n",
              "      <td>-869.315772</td>\n",
              "      <td>-872.676428</td>\n",
              "      <td>-871.409245</td>\n",
              "      <td>-875.570940</td>\n",
              "      <td>-875.765319</td>\n",
              "      <td>-876.682028</td>\n",
              "      <td>-876.323205</td>\n",
              "      <td>-877.564321</td>\n",
              "      <td>-877.655045</td>\n",
              "      <td>-877.923552</td>\n",
              "      <td>-877.786295</td>\n",
              "    </tr>\n",
              "    <tr>\n",
              "      <th>std</th>\n",
              "      <td>4.461850e+05</td>\n",
              "      <td>671.043363</td>\n",
              "      <td>27.681902</td>\n",
              "      <td>964.313907</td>\n",
              "      <td>353.299666</td>\n",
              "      <td>351.548910</td>\n",
              "      <td>342.153768</td>\n",
              "      <td>345.628984</td>\n",
              "      <td>333.651396</td>\n",
              "      <td>333.133376</td>\n",
              "      <td>330.526085</td>\n",
              "      <td>331.535176</td>\n",
              "      <td>328.027275</td>\n",
              "      <td>327.774794</td>\n",
              "      <td>327.021430</td>\n",
              "      <td>327.408253</td>\n",
              "    </tr>\n",
              "    <tr>\n",
              "      <th>min</th>\n",
              "      <td>1.851062e+07</td>\n",
              "      <td>0.000000</td>\n",
              "      <td>-99.000000</td>\n",
              "      <td>-999.000000</td>\n",
              "      <td>-999.000000</td>\n",
              "      <td>-999.000000</td>\n",
              "      <td>-999.000000</td>\n",
              "      <td>-999.000000</td>\n",
              "      <td>-999.000000</td>\n",
              "      <td>-999.000000</td>\n",
              "      <td>-999.000000</td>\n",
              "      <td>-999.000000</td>\n",
              "      <td>-999.000000</td>\n",
              "      <td>-999.000000</td>\n",
              "      <td>-999.000000</td>\n",
              "      <td>-999.000000</td>\n",
              "    </tr>\n",
              "    <tr>\n",
              "      <th>25%</th>\n",
              "      <td>1.911110e+07</td>\n",
              "      <td>600.000000</td>\n",
              "      <td>35.000000</td>\n",
              "      <td>-999.000000</td>\n",
              "      <td>-999.000000</td>\n",
              "      <td>-999.000000</td>\n",
              "      <td>-999.000000</td>\n",
              "      <td>-999.000000</td>\n",
              "      <td>-999.000000</td>\n",
              "      <td>-999.000000</td>\n",
              "      <td>-999.000000</td>\n",
              "      <td>-999.000000</td>\n",
              "      <td>-999.000000</td>\n",
              "      <td>-999.000000</td>\n",
              "      <td>-999.000000</td>\n",
              "      <td>-999.000000</td>\n",
              "    </tr>\n",
              "    <tr>\n",
              "      <th>50%</th>\n",
              "      <td>1.956093e+07</td>\n",
              "      <td>1200.000000</td>\n",
              "      <td>45.000000</td>\n",
              "      <td>-999.000000</td>\n",
              "      <td>-999.000000</td>\n",
              "      <td>-999.000000</td>\n",
              "      <td>-999.000000</td>\n",
              "      <td>-999.000000</td>\n",
              "      <td>-999.000000</td>\n",
              "      <td>-999.000000</td>\n",
              "      <td>-999.000000</td>\n",
              "      <td>-999.000000</td>\n",
              "      <td>-999.000000</td>\n",
              "      <td>-999.000000</td>\n",
              "      <td>-999.000000</td>\n",
              "      <td>-999.000000</td>\n",
              "    </tr>\n",
              "    <tr>\n",
              "      <th>75%</th>\n",
              "      <td>1.989081e+07</td>\n",
              "      <td>1800.000000</td>\n",
              "      <td>70.000000</td>\n",
              "      <td>990.000000</td>\n",
              "      <td>-999.000000</td>\n",
              "      <td>-999.000000</td>\n",
              "      <td>-999.000000</td>\n",
              "      <td>-999.000000</td>\n",
              "      <td>-999.000000</td>\n",
              "      <td>-999.000000</td>\n",
              "      <td>-999.000000</td>\n",
              "      <td>-999.000000</td>\n",
              "      <td>-999.000000</td>\n",
              "      <td>-999.000000</td>\n",
              "      <td>-999.000000</td>\n",
              "      <td>-999.000000</td>\n",
              "    </tr>\n",
              "    <tr>\n",
              "      <th>max</th>\n",
              "      <td>2.015111e+07</td>\n",
              "      <td>2330.000000</td>\n",
              "      <td>165.000000</td>\n",
              "      <td>1024.000000</td>\n",
              "      <td>710.000000</td>\n",
              "      <td>600.000000</td>\n",
              "      <td>640.000000</td>\n",
              "      <td>530.000000</td>\n",
              "      <td>360.000000</td>\n",
              "      <td>300.000000</td>\n",
              "      <td>330.000000</td>\n",
              "      <td>360.000000</td>\n",
              "      <td>180.000000</td>\n",
              "      <td>250.000000</td>\n",
              "      <td>150.000000</td>\n",
              "      <td>180.000000</td>\n",
              "    </tr>\n",
              "  </tbody>\n",
              "</table>\n",
              "</div>\n",
              "      <button class=\"colab-df-convert\" onclick=\"convertToInteractive('df-6d4d9f45-95ce-4e9d-9adb-4e6eace9e44e')\"\n",
              "              title=\"Convert this dataframe to an interactive table.\"\n",
              "              style=\"display:none;\">\n",
              "        \n",
              "  <svg xmlns=\"http://www.w3.org/2000/svg\" height=\"24px\"viewBox=\"0 0 24 24\"\n",
              "       width=\"24px\">\n",
              "    <path d=\"M0 0h24v24H0V0z\" fill=\"none\"/>\n",
              "    <path d=\"M18.56 5.44l.94 2.06.94-2.06 2.06-.94-2.06-.94-.94-2.06-.94 2.06-2.06.94zm-11 1L8.5 8.5l.94-2.06 2.06-.94-2.06-.94L8.5 2.5l-.94 2.06-2.06.94zm10 10l.94 2.06.94-2.06 2.06-.94-2.06-.94-.94-2.06-.94 2.06-2.06.94z\"/><path d=\"M17.41 7.96l-1.37-1.37c-.4-.4-.92-.59-1.43-.59-.52 0-1.04.2-1.43.59L10.3 9.45l-7.72 7.72c-.78.78-.78 2.05 0 2.83L4 21.41c.39.39.9.59 1.41.59.51 0 1.02-.2 1.41-.59l7.78-7.78 2.81-2.81c.8-.78.8-2.07 0-2.86zM5.41 20L4 18.59l7.72-7.72 1.47 1.35L5.41 20z\"/>\n",
              "  </svg>\n",
              "      </button>\n",
              "      \n",
              "  <style>\n",
              "    .colab-df-container {\n",
              "      display:flex;\n",
              "      flex-wrap:wrap;\n",
              "      gap: 12px;\n",
              "    }\n",
              "\n",
              "    .colab-df-convert {\n",
              "      background-color: #E8F0FE;\n",
              "      border: none;\n",
              "      border-radius: 50%;\n",
              "      cursor: pointer;\n",
              "      display: none;\n",
              "      fill: #1967D2;\n",
              "      height: 32px;\n",
              "      padding: 0 0 0 0;\n",
              "      width: 32px;\n",
              "    }\n",
              "\n",
              "    .colab-df-convert:hover {\n",
              "      background-color: #E2EBFA;\n",
              "      box-shadow: 0px 1px 2px rgba(60, 64, 67, 0.3), 0px 1px 3px 1px rgba(60, 64, 67, 0.15);\n",
              "      fill: #174EA6;\n",
              "    }\n",
              "\n",
              "    [theme=dark] .colab-df-convert {\n",
              "      background-color: #3B4455;\n",
              "      fill: #D2E3FC;\n",
              "    }\n",
              "\n",
              "    [theme=dark] .colab-df-convert:hover {\n",
              "      background-color: #434B5C;\n",
              "      box-shadow: 0px 1px 3px 1px rgba(0, 0, 0, 0.15);\n",
              "      filter: drop-shadow(0px 1px 2px rgba(0, 0, 0, 0.3));\n",
              "      fill: #FFFFFF;\n",
              "    }\n",
              "  </style>\n",
              "\n",
              "      <script>\n",
              "        const buttonEl =\n",
              "          document.querySelector('#df-6d4d9f45-95ce-4e9d-9adb-4e6eace9e44e button.colab-df-convert');\n",
              "        buttonEl.style.display =\n",
              "          google.colab.kernel.accessAllowed ? 'block' : 'none';\n",
              "\n",
              "        async function convertToInteractive(key) {\n",
              "          const element = document.querySelector('#df-6d4d9f45-95ce-4e9d-9adb-4e6eace9e44e');\n",
              "          const dataTable =\n",
              "            await google.colab.kernel.invokeFunction('convertToInteractive',\n",
              "                                                     [key], {});\n",
              "          if (!dataTable) return;\n",
              "\n",
              "          const docLinkHtml = 'Like what you see? Visit the ' +\n",
              "            '<a target=\"_blank\" href=https://colab.research.google.com/notebooks/data_table.ipynb>data table notebook</a>'\n",
              "            + ' to learn more about interactive tables.';\n",
              "          element.innerHTML = '';\n",
              "          dataTable['output_type'] = 'display_data';\n",
              "          await google.colab.output.renderOutput(dataTable, element);\n",
              "          const docLink = document.createElement('div');\n",
              "          docLink.innerHTML = docLinkHtml;\n",
              "          element.appendChild(docLink);\n",
              "        }\n",
              "      </script>\n",
              "    </div>\n",
              "  </div>\n",
              "  "
            ]
          },
          "metadata": {},
          "execution_count": 87
        }
      ]
    },
    {
      "cell_type": "code",
      "source": [
        "data.isnull().sum(axis = 0)"
      ],
      "metadata": {
        "id": "cKFonLlPtl5Y",
        "colab": {
          "base_uri": "https://localhost:8080/"
        },
        "outputId": "13de56d2-7925-4b70-88a8-01865a9a8141"
      },
      "execution_count": null,
      "outputs": [
        {
          "output_type": "execute_result",
          "data": {
            "text/plain": [
              "ID                  0\n",
              "Name                0\n",
              "Date                0\n",
              "Time                0\n",
              "Event               0\n",
              "Status              0\n",
              "Latitude            0\n",
              "Longitude           0\n",
              "Maximum Wind        0\n",
              "Minimum Pressure    0\n",
              "Low Wind NE         0\n",
              "Low Wind SE         0\n",
              "Low Wind SW         0\n",
              "Low Wind NW         0\n",
              "Moderate Wind NE    0\n",
              "Moderate Wind SE    0\n",
              "Moderate Wind SW    0\n",
              "Moderate Wind NW    0\n",
              "High Wind NE        0\n",
              "High Wind SE        0\n",
              "High Wind SW        0\n",
              "High Wind NW        0\n",
              "dtype: int64"
            ]
          },
          "metadata": {},
          "execution_count": 10
        }
      ]
    },
    {
      "cell_type": "code",
      "source": [
        "data['Latitude1'] = data['Latitude'].str[:-1]\n",
        "data['Latitudesign'] = data['Latitude'].str[-1]\n",
        "data['Longitude1'] = data['Longitude'].str[:-1]\n",
        "max(data['Longitude1'])\n",
        "#data.head(5)\n"
      ],
      "metadata": {
        "colab": {
          "base_uri": "https://localhost:8080/",
          "height": 35
        },
        "id": "6L49NLQI7O-E",
        "outputId": "320b5fed-4a66-4912-8860-731b6fab6bf3"
      },
      "execution_count": null,
      "outputs": [
        {
          "output_type": "execute_result",
          "data": {
            "text/plain": [
              "'99.9'"
            ],
            "application/vnd.google.colaboratory.intrinsic+json": {
              "type": "string"
            }
          },
          "metadata": {},
          "execution_count": 186
        }
      ]
    },
    {
      "cell_type": "code",
      "source": [
        "import numpy as np\n",
        "import pandas as pd\n",
        "import json\n",
        "from lambert import Lambert\n",
        "\n",
        "# Test if our custom implementation of Lambert projection yields same results as Cartopy:\n",
        "with open('projection_constants.json', 'r') as f: const = json.load(f)\n",
        "\n",
        "# data['Latitude1'] = data['Latitude'].map(lambda x: float(str(x)[:-3]))\n",
        "# data['Longitude1'] = data['Longitude'].map(lambda x: float(str(x)[:-3]))\n",
        "data['Latitude1'] = pd.to_numeric(data['Latitude1'])\n",
        "data['Longitude1'] = pd.to_numeric(data['Longitude1'])\n",
        "lat_true = data['Latitude1']\n",
        "lon_true = data['Longitude1']\n",
        "\n",
        "lamb = Lambert(\n",
        "    standard_parallels=(const['phi_1'], const['phi_2']),\n",
        "    central_latitude=const['phi_F'], central_longitude=const['lambda_F'],\n",
        "    false_easting=const['E_F'], false_northing=const['N_F'],\n",
        "    semimajor_axis = const['a'], inverse_flattening = const['f_inv']\n",
        ")\n",
        "\n",
        "x_test, y_test = lamb.geographic2cartesian(lat_true, lon_true)\n",
        "data['lcc_x'] = x_test\n",
        "data['lcc_y'] = y_test\n",
        "# print('Forward direction - largest absolute errors: x = {}, y = {}'.format(np.max(np.abs(x_test-x_true)), np.max(np.abs(y_test-y_true))))\n",
        "\n",
        "# lat_test, lon_test = lamb.cartesian2geographic(x_true, y_true)\n",
        "# print('Backward direction - largest absolute errors: lat = {}, lon = {}'.format(np.max(np.abs(lat_test-lat_true)), np.max(np.abs(lon_test-lon_true))))\n",
        "\n"
      ],
      "metadata": {
        "id": "htiXy2ta_dti"
      },
      "execution_count": null,
      "outputs": []
    },
    {
      "cell_type": "code",
      "source": [
        ""
      ],
      "metadata": {
        "colab": {
          "base_uri": "https://localhost:8080/"
        },
        "id": "TleuF6FCFPnK",
        "outputId": "029404f7-57ed-4a4f-ac27-a65b19033326"
      },
      "execution_count": null,
      "outputs": [
        {
          "output_type": "execute_result",
          "data": {
            "text/plain": [
              "359.1"
            ]
          },
          "metadata": {},
          "execution_count": 101
        }
      ]
    },
    {
      "cell_type": "code",
      "source": [
        "\n",
        "data['difference_lat'] = data.groupby('ID')['Latitude1'].diff()\n",
        "data['difference_lon'] = data.groupby('ID')['Longitude1'].diff()\n",
        "data['trans_dir'] = np.arctan(data['difference_lat']/data['difference_lon'])"
      ],
      "metadata": {
        "id": "iNmBp83w3esS"
      },
      "execution_count": null,
      "outputs": []
    },
    {
      "cell_type": "code",
      "source": [
        "data.head(5)"
      ],
      "metadata": {
        "colab": {
          "base_uri": "https://localhost:8080/",
          "height": 317
        },
        "id": "w6xi-uZP6FTf",
        "outputId": "8927d24e-827f-4538-d64f-37d729a02ea0"
      },
      "execution_count": null,
      "outputs": [
        {
          "output_type": "execute_result",
          "data": {
            "text/plain": [
              "         ID                 Name      Date  Time Event Status Latitude  \\\n",
              "0  AL011851              UNNAMED  18510625     0           HU    28.0N   \n",
              "1  AL011851              UNNAMED  18510625   600           HU    28.0N   \n",
              "2  AL011851              UNNAMED  18510625  1200           HU    28.0N   \n",
              "3  AL011851              UNNAMED  18510625  1800           HU    28.1N   \n",
              "4  AL011851              UNNAMED  18510625  2100     L     HU    28.2N   \n",
              "\n",
              "  Longitude  Maximum Wind  Minimum Pressure  ...  Latitude1  Longitude1  \\\n",
              "0     94.8W            80              -999  ...       28.0        94.8   \n",
              "1     95.4W            80              -999  ...       28.0        95.4   \n",
              "2     96.0W            80              -999  ...       28.0        96.0   \n",
              "3     96.5W            80              -999  ...       28.1        96.5   \n",
              "4     96.8W            80              -999  ...       28.2        96.8   \n",
              "\n",
              "          lcc_x         lcc_y  difference_lat  difference_lon  trans_dir  \\\n",
              "0  7.964132e+06  9.331641e+06             NaN             NaN        NaN   \n",
              "1  7.985278e+06  9.390130e+06             0.0             0.6   0.000000   \n",
              "2  8.005972e+06  9.448781e+06             0.0             0.6   0.000000   \n",
              "3  8.011821e+06  9.501550e+06             0.1             0.5   0.197396   \n",
              "4  8.010735e+06  9.534683e+06             0.1             0.3   0.321751   \n",
              "\n",
              "   trans_speed  Longitudesign  Latitudesign  \n",
              "0          NaN              W             N  \n",
              "1     2.727200              W             N  \n",
              "2     2.727200              W             N  \n",
              "3     2.329212              W             N  \n",
              "4     1.455758              W             N  \n",
              "\n",
              "[5 rows x 32 columns]"
            ],
            "text/html": [
              "\n",
              "  <div id=\"df-81677184-41c7-4a4a-8072-5748137f449f\">\n",
              "    <div class=\"colab-df-container\">\n",
              "      <div>\n",
              "<style scoped>\n",
              "    .dataframe tbody tr th:only-of-type {\n",
              "        vertical-align: middle;\n",
              "    }\n",
              "\n",
              "    .dataframe tbody tr th {\n",
              "        vertical-align: top;\n",
              "    }\n",
              "\n",
              "    .dataframe thead th {\n",
              "        text-align: right;\n",
              "    }\n",
              "</style>\n",
              "<table border=\"1\" class=\"dataframe\">\n",
              "  <thead>\n",
              "    <tr style=\"text-align: right;\">\n",
              "      <th></th>\n",
              "      <th>ID</th>\n",
              "      <th>Name</th>\n",
              "      <th>Date</th>\n",
              "      <th>Time</th>\n",
              "      <th>Event</th>\n",
              "      <th>Status</th>\n",
              "      <th>Latitude</th>\n",
              "      <th>Longitude</th>\n",
              "      <th>Maximum Wind</th>\n",
              "      <th>Minimum Pressure</th>\n",
              "      <th>...</th>\n",
              "      <th>Latitude1</th>\n",
              "      <th>Longitude1</th>\n",
              "      <th>lcc_x</th>\n",
              "      <th>lcc_y</th>\n",
              "      <th>difference_lat</th>\n",
              "      <th>difference_lon</th>\n",
              "      <th>trans_dir</th>\n",
              "      <th>trans_speed</th>\n",
              "      <th>Longitudesign</th>\n",
              "      <th>Latitudesign</th>\n",
              "    </tr>\n",
              "  </thead>\n",
              "  <tbody>\n",
              "    <tr>\n",
              "      <th>0</th>\n",
              "      <td>AL011851</td>\n",
              "      <td>UNNAMED</td>\n",
              "      <td>18510625</td>\n",
              "      <td>0</td>\n",
              "      <td></td>\n",
              "      <td>HU</td>\n",
              "      <td>28.0N</td>\n",
              "      <td>94.8W</td>\n",
              "      <td>80</td>\n",
              "      <td>-999</td>\n",
              "      <td>...</td>\n",
              "      <td>28.0</td>\n",
              "      <td>94.8</td>\n",
              "      <td>7.964132e+06</td>\n",
              "      <td>9.331641e+06</td>\n",
              "      <td>NaN</td>\n",
              "      <td>NaN</td>\n",
              "      <td>NaN</td>\n",
              "      <td>NaN</td>\n",
              "      <td>W</td>\n",
              "      <td>N</td>\n",
              "    </tr>\n",
              "    <tr>\n",
              "      <th>1</th>\n",
              "      <td>AL011851</td>\n",
              "      <td>UNNAMED</td>\n",
              "      <td>18510625</td>\n",
              "      <td>600</td>\n",
              "      <td></td>\n",
              "      <td>HU</td>\n",
              "      <td>28.0N</td>\n",
              "      <td>95.4W</td>\n",
              "      <td>80</td>\n",
              "      <td>-999</td>\n",
              "      <td>...</td>\n",
              "      <td>28.0</td>\n",
              "      <td>95.4</td>\n",
              "      <td>7.985278e+06</td>\n",
              "      <td>9.390130e+06</td>\n",
              "      <td>0.0</td>\n",
              "      <td>0.6</td>\n",
              "      <td>0.000000</td>\n",
              "      <td>2.727200</td>\n",
              "      <td>W</td>\n",
              "      <td>N</td>\n",
              "    </tr>\n",
              "    <tr>\n",
              "      <th>2</th>\n",
              "      <td>AL011851</td>\n",
              "      <td>UNNAMED</td>\n",
              "      <td>18510625</td>\n",
              "      <td>1200</td>\n",
              "      <td></td>\n",
              "      <td>HU</td>\n",
              "      <td>28.0N</td>\n",
              "      <td>96.0W</td>\n",
              "      <td>80</td>\n",
              "      <td>-999</td>\n",
              "      <td>...</td>\n",
              "      <td>28.0</td>\n",
              "      <td>96.0</td>\n",
              "      <td>8.005972e+06</td>\n",
              "      <td>9.448781e+06</td>\n",
              "      <td>0.0</td>\n",
              "      <td>0.6</td>\n",
              "      <td>0.000000</td>\n",
              "      <td>2.727200</td>\n",
              "      <td>W</td>\n",
              "      <td>N</td>\n",
              "    </tr>\n",
              "    <tr>\n",
              "      <th>3</th>\n",
              "      <td>AL011851</td>\n",
              "      <td>UNNAMED</td>\n",
              "      <td>18510625</td>\n",
              "      <td>1800</td>\n",
              "      <td></td>\n",
              "      <td>HU</td>\n",
              "      <td>28.1N</td>\n",
              "      <td>96.5W</td>\n",
              "      <td>80</td>\n",
              "      <td>-999</td>\n",
              "      <td>...</td>\n",
              "      <td>28.1</td>\n",
              "      <td>96.5</td>\n",
              "      <td>8.011821e+06</td>\n",
              "      <td>9.501550e+06</td>\n",
              "      <td>0.1</td>\n",
              "      <td>0.5</td>\n",
              "      <td>0.197396</td>\n",
              "      <td>2.329212</td>\n",
              "      <td>W</td>\n",
              "      <td>N</td>\n",
              "    </tr>\n",
              "    <tr>\n",
              "      <th>4</th>\n",
              "      <td>AL011851</td>\n",
              "      <td>UNNAMED</td>\n",
              "      <td>18510625</td>\n",
              "      <td>2100</td>\n",
              "      <td>L</td>\n",
              "      <td>HU</td>\n",
              "      <td>28.2N</td>\n",
              "      <td>96.8W</td>\n",
              "      <td>80</td>\n",
              "      <td>-999</td>\n",
              "      <td>...</td>\n",
              "      <td>28.2</td>\n",
              "      <td>96.8</td>\n",
              "      <td>8.010735e+06</td>\n",
              "      <td>9.534683e+06</td>\n",
              "      <td>0.1</td>\n",
              "      <td>0.3</td>\n",
              "      <td>0.321751</td>\n",
              "      <td>1.455758</td>\n",
              "      <td>W</td>\n",
              "      <td>N</td>\n",
              "    </tr>\n",
              "  </tbody>\n",
              "</table>\n",
              "<p>5 rows × 32 columns</p>\n",
              "</div>\n",
              "      <button class=\"colab-df-convert\" onclick=\"convertToInteractive('df-81677184-41c7-4a4a-8072-5748137f449f')\"\n",
              "              title=\"Convert this dataframe to an interactive table.\"\n",
              "              style=\"display:none;\">\n",
              "        \n",
              "  <svg xmlns=\"http://www.w3.org/2000/svg\" height=\"24px\"viewBox=\"0 0 24 24\"\n",
              "       width=\"24px\">\n",
              "    <path d=\"M0 0h24v24H0V0z\" fill=\"none\"/>\n",
              "    <path d=\"M18.56 5.44l.94 2.06.94-2.06 2.06-.94-2.06-.94-.94-2.06-.94 2.06-2.06.94zm-11 1L8.5 8.5l.94-2.06 2.06-.94-2.06-.94L8.5 2.5l-.94 2.06-2.06.94zm10 10l.94 2.06.94-2.06 2.06-.94-2.06-.94-.94-2.06-.94 2.06-2.06.94z\"/><path d=\"M17.41 7.96l-1.37-1.37c-.4-.4-.92-.59-1.43-.59-.52 0-1.04.2-1.43.59L10.3 9.45l-7.72 7.72c-.78.78-.78 2.05 0 2.83L4 21.41c.39.39.9.59 1.41.59.51 0 1.02-.2 1.41-.59l7.78-7.78 2.81-2.81c.8-.78.8-2.07 0-2.86zM5.41 20L4 18.59l7.72-7.72 1.47 1.35L5.41 20z\"/>\n",
              "  </svg>\n",
              "      </button>\n",
              "      \n",
              "  <style>\n",
              "    .colab-df-container {\n",
              "      display:flex;\n",
              "      flex-wrap:wrap;\n",
              "      gap: 12px;\n",
              "    }\n",
              "\n",
              "    .colab-df-convert {\n",
              "      background-color: #E8F0FE;\n",
              "      border: none;\n",
              "      border-radius: 50%;\n",
              "      cursor: pointer;\n",
              "      display: none;\n",
              "      fill: #1967D2;\n",
              "      height: 32px;\n",
              "      padding: 0 0 0 0;\n",
              "      width: 32px;\n",
              "    }\n",
              "\n",
              "    .colab-df-convert:hover {\n",
              "      background-color: #E2EBFA;\n",
              "      box-shadow: 0px 1px 2px rgba(60, 64, 67, 0.3), 0px 1px 3px 1px rgba(60, 64, 67, 0.15);\n",
              "      fill: #174EA6;\n",
              "    }\n",
              "\n",
              "    [theme=dark] .colab-df-convert {\n",
              "      background-color: #3B4455;\n",
              "      fill: #D2E3FC;\n",
              "    }\n",
              "\n",
              "    [theme=dark] .colab-df-convert:hover {\n",
              "      background-color: #434B5C;\n",
              "      box-shadow: 0px 1px 3px 1px rgba(0, 0, 0, 0.15);\n",
              "      filter: drop-shadow(0px 1px 2px rgba(0, 0, 0, 0.3));\n",
              "      fill: #FFFFFF;\n",
              "    }\n",
              "  </style>\n",
              "\n",
              "      <script>\n",
              "        const buttonEl =\n",
              "          document.querySelector('#df-81677184-41c7-4a4a-8072-5748137f449f button.colab-df-convert');\n",
              "        buttonEl.style.display =\n",
              "          google.colab.kernel.accessAllowed ? 'block' : 'none';\n",
              "\n",
              "        async function convertToInteractive(key) {\n",
              "          const element = document.querySelector('#df-81677184-41c7-4a4a-8072-5748137f449f');\n",
              "          const dataTable =\n",
              "            await google.colab.kernel.invokeFunction('convertToInteractive',\n",
              "                                                     [key], {});\n",
              "          if (!dataTable) return;\n",
              "\n",
              "          const docLinkHtml = 'Like what you see? Visit the ' +\n",
              "            '<a target=\"_blank\" href=https://colab.research.google.com/notebooks/data_table.ipynb>data table notebook</a>'\n",
              "            + ' to learn more about interactive tables.';\n",
              "          element.innerHTML = '';\n",
              "          dataTable['output_type'] = 'display_data';\n",
              "          await google.colab.output.renderOutput(dataTable, element);\n",
              "          const docLink = document.createElement('div');\n",
              "          docLink.innerHTML = docLinkHtml;\n",
              "          element.appendChild(docLink);\n",
              "        }\n",
              "      </script>\n",
              "    </div>\n",
              "  </div>\n",
              "  "
            ]
          },
          "metadata": {},
          "execution_count": 176
        }
      ]
    },
    {
      "cell_type": "code",
      "source": [
        "def haversine(coord1: object, coord2: object, lat2: object, lon2: object):\n",
        "    import math\n",
        "\n",
        "    # # Coordinates in decimal degrees (e.g. 2.89078, 12.79797)\n",
        "    # lon1, lat1 = coord1\n",
        "    # lon2, lat2 = coord2\n",
        "\n",
        "    R = 6371000  # radius of Earth in meters\n",
        "    phi_1 = math.radians(lat2 - coord1)\n",
        "    phi_2 = math.radians(lat2)\n",
        "\n",
        "    delta_phi = math.radians(coord1)\n",
        "    delta_lambda = math.radians(coord2)\n",
        "\n",
        "    a = math.sin(delta_phi / 2.0) ** 2 + math.cos(phi_1) * math.cos(phi_2) * math.sin(delta_lambda / 2.0) ** 2\n",
        "    \n",
        "    c = 2 * math.atan2(math.sqrt(a), math.sqrt(1 - a))\n",
        "\n",
        "    meters = R * c  # output distance in meters\n",
        "    km = meters / 1000.0  # output distance in kilometers\n",
        "\n",
        "    meters = round(meters, 3)/(6*3600)\n",
        "    return meters\n",
        "\n"
      ],
      "metadata": {
        "id": "ZrYhfF7z8mNq"
      },
      "execution_count": null,
      "outputs": []
    },
    {
      "cell_type": "code",
      "source": [
        "data['trans_speed'] = data.apply(lambda x: haversine(x['difference_lat'],x['difference_lon'],x['Latitude1'],x['Longitude1']), axis=1)\n",
        "data.head(5)"
      ],
      "metadata": {
        "colab": {
          "base_uri": "https://localhost:8080/",
          "height": 334
        },
        "id": "qKpYTFKi9pRZ",
        "outputId": "fb69c6e4-92fd-45f4-9141-ef507d48aefd"
      },
      "execution_count": null,
      "outputs": [
        {
          "output_type": "execute_result",
          "data": {
            "text/plain": [
              "         ID                 Name      Date  Time Event Status Latitude  \\\n",
              "0  AL011851              UNNAMED  18510625     0           HU    28.0N   \n",
              "1  AL011851              UNNAMED  18510625   600           HU    28.0N   \n",
              "2  AL011851              UNNAMED  18510625  1200           HU    28.0N   \n",
              "3  AL011851              UNNAMED  18510625  1800           HU    28.1N   \n",
              "4  AL011851              UNNAMED  18510625  2100     L     HU    28.2N   \n",
              "\n",
              "  Longitude  Maximum Wind  Minimum Pressure  ...  High Wind NW  Latitude1  \\\n",
              "0     94.8W            80              -999  ...          -999       28.0   \n",
              "1     95.4W            80              -999  ...          -999       28.0   \n",
              "2     96.0W            80              -999  ...          -999       28.0   \n",
              "3     96.5W            80              -999  ...          -999       28.1   \n",
              "4     96.8W            80              -999  ...          -999       28.2   \n",
              "\n",
              "   Latitudesign  Longitude1         lcc_x         lcc_y  difference_lat  \\\n",
              "0             N        94.8  7.964132e+06  9.331641e+06             NaN   \n",
              "1             N        95.4  7.985278e+06  9.390130e+06             0.0   \n",
              "2             N        96.0  8.005972e+06  9.448781e+06             0.0   \n",
              "3             N        96.5  8.011821e+06  9.501550e+06             0.1   \n",
              "4             N        96.8  8.010735e+06  9.534683e+06             0.1   \n",
              "\n",
              "   difference_lon  trans_dir  trans_speed  \n",
              "0             NaN        NaN          NaN  \n",
              "1             0.6   0.000000     2.727200  \n",
              "2             0.6   0.000000     2.727200  \n",
              "3             0.5   0.197396     2.329212  \n",
              "4             0.3   0.321751     1.455758  \n",
              "\n",
              "[5 rows x 31 columns]"
            ],
            "text/html": [
              "\n",
              "  <div id=\"df-477ad3a4-2a1d-45f1-94f0-7a23bb427b0b\">\n",
              "    <div class=\"colab-df-container\">\n",
              "      <div>\n",
              "<style scoped>\n",
              "    .dataframe tbody tr th:only-of-type {\n",
              "        vertical-align: middle;\n",
              "    }\n",
              "\n",
              "    .dataframe tbody tr th {\n",
              "        vertical-align: top;\n",
              "    }\n",
              "\n",
              "    .dataframe thead th {\n",
              "        text-align: right;\n",
              "    }\n",
              "</style>\n",
              "<table border=\"1\" class=\"dataframe\">\n",
              "  <thead>\n",
              "    <tr style=\"text-align: right;\">\n",
              "      <th></th>\n",
              "      <th>ID</th>\n",
              "      <th>Name</th>\n",
              "      <th>Date</th>\n",
              "      <th>Time</th>\n",
              "      <th>Event</th>\n",
              "      <th>Status</th>\n",
              "      <th>Latitude</th>\n",
              "      <th>Longitude</th>\n",
              "      <th>Maximum Wind</th>\n",
              "      <th>Minimum Pressure</th>\n",
              "      <th>...</th>\n",
              "      <th>High Wind NW</th>\n",
              "      <th>Latitude1</th>\n",
              "      <th>Latitudesign</th>\n",
              "      <th>Longitude1</th>\n",
              "      <th>lcc_x</th>\n",
              "      <th>lcc_y</th>\n",
              "      <th>difference_lat</th>\n",
              "      <th>difference_lon</th>\n",
              "      <th>trans_dir</th>\n",
              "      <th>trans_speed</th>\n",
              "    </tr>\n",
              "  </thead>\n",
              "  <tbody>\n",
              "    <tr>\n",
              "      <th>0</th>\n",
              "      <td>AL011851</td>\n",
              "      <td>UNNAMED</td>\n",
              "      <td>18510625</td>\n",
              "      <td>0</td>\n",
              "      <td></td>\n",
              "      <td>HU</td>\n",
              "      <td>28.0N</td>\n",
              "      <td>94.8W</td>\n",
              "      <td>80</td>\n",
              "      <td>-999</td>\n",
              "      <td>...</td>\n",
              "      <td>-999</td>\n",
              "      <td>28.0</td>\n",
              "      <td>N</td>\n",
              "      <td>94.8</td>\n",
              "      <td>7.964132e+06</td>\n",
              "      <td>9.331641e+06</td>\n",
              "      <td>NaN</td>\n",
              "      <td>NaN</td>\n",
              "      <td>NaN</td>\n",
              "      <td>NaN</td>\n",
              "    </tr>\n",
              "    <tr>\n",
              "      <th>1</th>\n",
              "      <td>AL011851</td>\n",
              "      <td>UNNAMED</td>\n",
              "      <td>18510625</td>\n",
              "      <td>600</td>\n",
              "      <td></td>\n",
              "      <td>HU</td>\n",
              "      <td>28.0N</td>\n",
              "      <td>95.4W</td>\n",
              "      <td>80</td>\n",
              "      <td>-999</td>\n",
              "      <td>...</td>\n",
              "      <td>-999</td>\n",
              "      <td>28.0</td>\n",
              "      <td>N</td>\n",
              "      <td>95.4</td>\n",
              "      <td>7.985278e+06</td>\n",
              "      <td>9.390130e+06</td>\n",
              "      <td>0.0</td>\n",
              "      <td>0.6</td>\n",
              "      <td>0.000000</td>\n",
              "      <td>2.727200</td>\n",
              "    </tr>\n",
              "    <tr>\n",
              "      <th>2</th>\n",
              "      <td>AL011851</td>\n",
              "      <td>UNNAMED</td>\n",
              "      <td>18510625</td>\n",
              "      <td>1200</td>\n",
              "      <td></td>\n",
              "      <td>HU</td>\n",
              "      <td>28.0N</td>\n",
              "      <td>96.0W</td>\n",
              "      <td>80</td>\n",
              "      <td>-999</td>\n",
              "      <td>...</td>\n",
              "      <td>-999</td>\n",
              "      <td>28.0</td>\n",
              "      <td>N</td>\n",
              "      <td>96.0</td>\n",
              "      <td>8.005972e+06</td>\n",
              "      <td>9.448781e+06</td>\n",
              "      <td>0.0</td>\n",
              "      <td>0.6</td>\n",
              "      <td>0.000000</td>\n",
              "      <td>2.727200</td>\n",
              "    </tr>\n",
              "    <tr>\n",
              "      <th>3</th>\n",
              "      <td>AL011851</td>\n",
              "      <td>UNNAMED</td>\n",
              "      <td>18510625</td>\n",
              "      <td>1800</td>\n",
              "      <td></td>\n",
              "      <td>HU</td>\n",
              "      <td>28.1N</td>\n",
              "      <td>96.5W</td>\n",
              "      <td>80</td>\n",
              "      <td>-999</td>\n",
              "      <td>...</td>\n",
              "      <td>-999</td>\n",
              "      <td>28.1</td>\n",
              "      <td>N</td>\n",
              "      <td>96.5</td>\n",
              "      <td>8.011821e+06</td>\n",
              "      <td>9.501550e+06</td>\n",
              "      <td>0.1</td>\n",
              "      <td>0.5</td>\n",
              "      <td>0.197396</td>\n",
              "      <td>2.329212</td>\n",
              "    </tr>\n",
              "    <tr>\n",
              "      <th>4</th>\n",
              "      <td>AL011851</td>\n",
              "      <td>UNNAMED</td>\n",
              "      <td>18510625</td>\n",
              "      <td>2100</td>\n",
              "      <td>L</td>\n",
              "      <td>HU</td>\n",
              "      <td>28.2N</td>\n",
              "      <td>96.8W</td>\n",
              "      <td>80</td>\n",
              "      <td>-999</td>\n",
              "      <td>...</td>\n",
              "      <td>-999</td>\n",
              "      <td>28.2</td>\n",
              "      <td>N</td>\n",
              "      <td>96.8</td>\n",
              "      <td>8.010735e+06</td>\n",
              "      <td>9.534683e+06</td>\n",
              "      <td>0.1</td>\n",
              "      <td>0.3</td>\n",
              "      <td>0.321751</td>\n",
              "      <td>1.455758</td>\n",
              "    </tr>\n",
              "  </tbody>\n",
              "</table>\n",
              "<p>5 rows × 31 columns</p>\n",
              "</div>\n",
              "      <button class=\"colab-df-convert\" onclick=\"convertToInteractive('df-477ad3a4-2a1d-45f1-94f0-7a23bb427b0b')\"\n",
              "              title=\"Convert this dataframe to an interactive table.\"\n",
              "              style=\"display:none;\">\n",
              "        \n",
              "  <svg xmlns=\"http://www.w3.org/2000/svg\" height=\"24px\"viewBox=\"0 0 24 24\"\n",
              "       width=\"24px\">\n",
              "    <path d=\"M0 0h24v24H0V0z\" fill=\"none\"/>\n",
              "    <path d=\"M18.56 5.44l.94 2.06.94-2.06 2.06-.94-2.06-.94-.94-2.06-.94 2.06-2.06.94zm-11 1L8.5 8.5l.94-2.06 2.06-.94-2.06-.94L8.5 2.5l-.94 2.06-2.06.94zm10 10l.94 2.06.94-2.06 2.06-.94-2.06-.94-.94-2.06-.94 2.06-2.06.94z\"/><path d=\"M17.41 7.96l-1.37-1.37c-.4-.4-.92-.59-1.43-.59-.52 0-1.04.2-1.43.59L10.3 9.45l-7.72 7.72c-.78.78-.78 2.05 0 2.83L4 21.41c.39.39.9.59 1.41.59.51 0 1.02-.2 1.41-.59l7.78-7.78 2.81-2.81c.8-.78.8-2.07 0-2.86zM5.41 20L4 18.59l7.72-7.72 1.47 1.35L5.41 20z\"/>\n",
              "  </svg>\n",
              "      </button>\n",
              "      \n",
              "  <style>\n",
              "    .colab-df-container {\n",
              "      display:flex;\n",
              "      flex-wrap:wrap;\n",
              "      gap: 12px;\n",
              "    }\n",
              "\n",
              "    .colab-df-convert {\n",
              "      background-color: #E8F0FE;\n",
              "      border: none;\n",
              "      border-radius: 50%;\n",
              "      cursor: pointer;\n",
              "      display: none;\n",
              "      fill: #1967D2;\n",
              "      height: 32px;\n",
              "      padding: 0 0 0 0;\n",
              "      width: 32px;\n",
              "    }\n",
              "\n",
              "    .colab-df-convert:hover {\n",
              "      background-color: #E2EBFA;\n",
              "      box-shadow: 0px 1px 2px rgba(60, 64, 67, 0.3), 0px 1px 3px 1px rgba(60, 64, 67, 0.15);\n",
              "      fill: #174EA6;\n",
              "    }\n",
              "\n",
              "    [theme=dark] .colab-df-convert {\n",
              "      background-color: #3B4455;\n",
              "      fill: #D2E3FC;\n",
              "    }\n",
              "\n",
              "    [theme=dark] .colab-df-convert:hover {\n",
              "      background-color: #434B5C;\n",
              "      box-shadow: 0px 1px 3px 1px rgba(0, 0, 0, 0.15);\n",
              "      filter: drop-shadow(0px 1px 2px rgba(0, 0, 0, 0.3));\n",
              "      fill: #FFFFFF;\n",
              "    }\n",
              "  </style>\n",
              "\n",
              "      <script>\n",
              "        const buttonEl =\n",
              "          document.querySelector('#df-477ad3a4-2a1d-45f1-94f0-7a23bb427b0b button.colab-df-convert');\n",
              "        buttonEl.style.display =\n",
              "          google.colab.kernel.accessAllowed ? 'block' : 'none';\n",
              "\n",
              "        async function convertToInteractive(key) {\n",
              "          const element = document.querySelector('#df-477ad3a4-2a1d-45f1-94f0-7a23bb427b0b');\n",
              "          const dataTable =\n",
              "            await google.colab.kernel.invokeFunction('convertToInteractive',\n",
              "                                                     [key], {});\n",
              "          if (!dataTable) return;\n",
              "\n",
              "          const docLinkHtml = 'Like what you see? Visit the ' +\n",
              "            '<a target=\"_blank\" href=https://colab.research.google.com/notebooks/data_table.ipynb>data table notebook</a>'\n",
              "            + ' to learn more about interactive tables.';\n",
              "          element.innerHTML = '';\n",
              "          dataTable['output_type'] = 'display_data';\n",
              "          await google.colab.output.renderOutput(dataTable, element);\n",
              "          const docLink = document.createElement('div');\n",
              "          docLink.innerHTML = docLinkHtml;\n",
              "          element.appendChild(docLink);\n",
              "        }\n",
              "      </script>\n",
              "    </div>\n",
              "  </div>\n",
              "  "
            ]
          },
          "metadata": {},
          "execution_count": 190
        }
      ]
    },
    {
      "cell_type": "code",
      "source": [
        "max(data['trans_speed'][1:])"
      ],
      "metadata": {
        "colab": {
          "base_uri": "https://localhost:8080/"
        },
        "id": "HPopVbKDCBvH",
        "outputId": "334c714c-9726-43a8-a878-8c1255040b5c"
      },
      "execution_count": null,
      "outputs": [
        {
          "output_type": "execute_result",
          "data": {
            "text/plain": [
              "40.48433027777778"
            ]
          },
          "metadata": {},
          "execution_count": 191
        }
      ]
    },
    {
      "cell_type": "code",
      "source": [
        "\n",
        "from matplotlib import pyplot as plt\n",
        "fig, ax = plt.subplots(figsize =(10, 7))\n",
        "ax.hist(data['trans_speed'], bins = range(0,44,2))\n",
        " \n",
        "# Show plot\n",
        "plt.show()"
      ],
      "metadata": {
        "colab": {
          "base_uri": "https://localhost:8080/",
          "height": 428
        },
        "id": "tBQZFfR3CXPc",
        "outputId": "7ad632a8-75c0-4747-c67d-55fea2493f98"
      },
      "execution_count": null,
      "outputs": [
        {
          "output_type": "display_data",
          "data": {
            "text/plain": [
              "<Figure size 720x504 with 1 Axes>"
            ],
            "image/png": "[encoded data removed]"
          },
          "metadata": {
            "needs_background": "light"
          }
        }
      ]
    },
    {
      "cell_type": "code",
      "source": [
        "clean =  data2['Longitude1']>=-180\n",
        "data3 = data2[clean]\n"
      ],
      "metadata": {
        "id": "1v8bxBWnOWqs"
      },
      "execution_count": null,
      "outputs": []
    },
    {
      "cell_type": "code",
      "source": [
        "from matplotlib import pyplot as plt\n",
        "fig, ax = plt.subplots(figsize =(10, 7))\n",
        "ax.hist(data3['Longitude1'], bins = range(-150,100,5))\n",
        " \n",
        "# Show plot\n",
        "plt.show()\n",
        "min(data3['Longitude1'])"
      ],
      "metadata": {
        "colab": {
          "base_uri": "https://localhost:8080/",
          "height": 449
        },
        "id": "WMbbzy-0Gfib",
        "outputId": "5f957c68-6387-480a-84c2-9902384b47ee"
      },
      "execution_count": null,
      "outputs": [
        {
          "output_type": "display_data",
          "data": {
            "text/plain": [
              "<Figure size 720x504 with 1 Axes>"
            ],
            "image/png": "[encoded data removed]"
          },
          "metadata": {
            "needs_background": "light"
          }
        },
        {
          "output_type": "execute_result",
          "data": {
            "text/plain": [
              "-109.5"
            ]
          },
          "metadata": {},
          "execution_count": 201
        }
      ]
    },
    {
      "cell_type": "code",
      "source": [
        "data2 = data.groupby('ID').filter(lambda x: len(x) > 6)"
      ],
      "metadata": {
        "id": "ltfg7k1zDOSA"
      },
      "execution_count": null,
      "outputs": []
    },
    {
      "cell_type": "code",
      "source": [
        "max(data2['Longitude1'])"
      ],
      "metadata": {
        "colab": {
          "base_uri": "https://localhost:8080/"
        },
        "id": "q66eccoQDZh-",
        "outputId": "5c32fff5-3d43-4156-aac8-deaaf62d1298"
      },
      "execution_count": null,
      "outputs": [
        {
          "output_type": "execute_result",
          "data": {
            "text/plain": [
              "63.0"
            ]
          },
          "metadata": {},
          "execution_count": 182
        }
      ]
    },
    {
      "cell_type": "code",
      "source": [
        "min(data2['Longitude1'])"
      ],
      "metadata": {
        "colab": {
          "base_uri": "https://localhost:8080/"
        },
        "id": "1mzEBNRfDm4Q",
        "outputId": "ce3557b6-c8f5-43a6-a96c-8b636aee249f"
      },
      "execution_count": null,
      "outputs": [
        {
          "output_type": "execute_result",
          "data": {
            "text/plain": [
              "-359.1"
            ]
          },
          "metadata": {},
          "execution_count": 163
        }
      ]
    },
    {
      "cell_type": "markdown",
      "source": [
        ""
      ],
      "metadata": {
        "id": "Q_ZO_3aCF2uz"
      }
    },
    {
      "cell_type": "code",
      "source": [
        "is_359 =  data2['Longitude1']<-109.5\n",
        "data_359 = data2[is_359]\n",
        "print(data_359)"
      ],
      "metadata": {
        "colab": {
          "base_uri": "https://localhost:8080/"
        },
        "id": "tQFGtb1iFx5G",
        "outputId": "89541c9d-f9a2-41f8-e4ed-a7134d6ba382"
      },
      "execution_count": null,
      "outputs": [
        {
          "output_type": "stream",
          "name": "stdout",
          "text": [
            "             ID                 Name      Date  Time Event Status Latitude  \\\n",
            "22984  AL051952              UNNAMED  19520914   600           EX    43.2N   \n",
            "22985  AL051952              UNNAMED  19520914  1200           EX    44.0N   \n",
            "\n",
            "      Longitude  Maximum Wind  Minimum Pressure  ...  High Wind SW  \\\n",
            "22984    359.1W            35              -999  ...          -999   \n",
            "22985    358.4W            35              -999  ...          -999   \n",
            "\n",
            "       High Wind NW  Latitude1  Longitude1         lcc_x         lcc_y  \\\n",
            "22984          -999       43.2      -359.1  6.703699e+06  1.267456e+07   \n",
            "22985          -999       44.0      -358.4  6.609661e+06  1.272243e+07   \n",
            "\n",
            "       difference_lat  difference_lon  trans_dir  trans_speed  \n",
            "22984             0.9          -358.9  -0.002508     6.225381  \n",
            "22985             0.8             0.7   0.851966     4.875460  \n",
            "\n",
            "[2 rows x 30 columns]\n"
          ]
        }
      ]
    },
    {
      "cell_type": "code",
      "source": [
        "a1 = lamb.geographic2cartesian(7.4, 109.5)\n",
        "a2 = lamb.geographic2cartesian(81, 109.5)\n",
        "a3 = lamb.geographic2cartesian(7.4, 63)\n",
        "a4 = lamb.geographic2cartesian(81, 63)\n",
        "\n"
      ],
      "metadata": {
        "id": "c1jwWp8IPDze"
      },
      "execution_count": null,
      "outputs": []
    },
    {
      "cell_type": "code",
      "source": [
        "import math "
      ],
      "metadata": {
        "id": "NeXqLo5xRX2U"
      },
      "execution_count": 206,
      "outputs": []
    },
    {
      "cell_type": "code",
      "source": [
        "d1=math.sqrt((a2[0]-a3[0])**2+(a2[1]-a3[1])**2);\n",
        "d2=math.sqrt((a1[0]-a3[0])**2+(a2[1]-a3[1])**2);\n",
        "area_gridspace = math.sqrt(0.5*d1*d2/3600)\n",
        "print(area_gridspace,d1,d2)"
      ],
      "metadata": {
        "id": "b2RVCThLRqQx",
        "colab": {
          "base_uri": "https://localhost:8080/"
        },
        "outputId": "00c2bbe2-f480-4237-f7d9-8fd434b0a198"
      },
      "execution_count": 212,
      "outputs": [
        {
          "output_type": "stream",
          "name": "stdout",
          "text": [
            "98403.33209087985 9206380.46863964 7572916.82186315\n"
          ]
        }
      ]
    }
  ]
}